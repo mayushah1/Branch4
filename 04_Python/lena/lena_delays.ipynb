{
 "cells": [
  {
   "cell_type": "code",
   "execution_count": null,
   "metadata": {},
   "outputs": [],
   "source": [
    "'''\n",
    "Name: Lena Corredor\n",
    "Resource: @SFBARTalert\n",
    "Description: From BART Twitter account, find out how many delays Bart has each week.'''"
   ]
  },
  {
   "cell_type": "code",
   "execution_count": 132,
   "metadata": {},
   "outputs": [],
   "source": [
    "# Dependencies\n",
    "import tweepy\n",
    "import json\n",
    "from pprint import pprint\n",
    "import pandas as pd\n",
    "from lena_keys import consumer_key, consumer_secret, access_token, access_token_secret\n",
    "\n",
    "# Setup Tweepy API Authentication\n",
    "auth = tweepy.OAuthHandler(consumer_key, consumer_secret)\n",
    "auth.set_access_token(access_token, access_token_secret)\n",
    "api = tweepy.API(auth, parser=tweepy.parsers.JSONParser())\n",
    "\n",
    "#Set dataframe to show entire width\n",
    "pd.set_option('display.max_colwidth', -1)"
   ]
  },
  {
   "cell_type": "code",
   "execution_count": 136,
   "metadata": {},
   "outputs": [
    {
     "name": "stdout",
     "output_type": "stream",
     "text": [
      "971891627072438271\n",
      "969847090086948863\n",
      "969369007265480703\n",
      "969369007265480703\n",
      "969369007265480703\n",
      "969369007265480703\n",
      "969369007265480703\n",
      "969369007265480703\n",
      "969369007265480703\n",
      "969369007265480703\n"
     ]
    },
    {
     "data": {
      "text/plain": [
       "34"
      ]
     },
     "execution_count": 136,
     "metadata": {},
     "output_type": "execute_result"
    }
   ],
   "source": [
    "# Search Term\n",
    "search_term =\"@SFBARTalert\"\n",
    "oldest_tweet = None\n",
    "tweets_clean1=[]\n",
    "times_clean1=[]\n",
    "\n",
    "# Search for all tweets\n",
    "#Cleaning round1: store tweets that does not contain: BART recovering\n",
    "\n",
    "for x in range(10):\n",
    "    public_tweets = api.search(search_term, count=1000,result_type=\"recent\",max_id=oldest_tweet)\n",
    "    for item in public_tweets[\"statuses\"]:\n",
    "        if \"BART recovering\" in item[\"text\"]:\n",
    "            pass\n",
    "        elif \"delay\" in item[\"text\"]:\n",
    "            tweets_clean1.append(item[\"text\"])\n",
    "            times_clean1.append(item[\"created_at\"])\n",
    "        else:\n",
    "            pass\n",
    "    oldest_tweet = int(item[\"id_str\"]) -1\n",
    "    print(oldest_tweet)\n",
    "    \n",
    "d1={\"Tweets\":tweets_clean1,\"Time\":times_clean1}\n",
    "df1=pd.DataFrame(d1)\n",
    "\n",
    "# pprint(df1)        \n",
    "len(tweets_clean1)\n"
   ]
  },
  {
   "cell_type": "code",
   "execution_count": 137,
   "metadata": {},
   "outputs": [
    {
     "data": {
      "text/plain": [
       "'Sat Mar 03 06:20:25 +0000 2018'"
      ]
     },
     "execution_count": 137,
     "metadata": {},
     "output_type": "execute_result"
    }
   ],
   "source": [
    "times_clean1[33]"
   ]
  },
  {
   "cell_type": "code",
   "execution_count": 107,
   "metadata": {},
   "outputs": [
    {
     "data": {
      "text/html": [
       "<div>\n",
       "<style scoped>\n",
       "    .dataframe tbody tr th:only-of-type {\n",
       "        vertical-align: middle;\n",
       "    }\n",
       "\n",
       "    .dataframe tbody tr th {\n",
       "        vertical-align: top;\n",
       "    }\n",
       "\n",
       "    .dataframe thead th {\n",
       "        text-align: right;\n",
       "    }\n",
       "</style>\n",
       "<table border=\"1\" class=\"dataframe\">\n",
       "  <thead>\n",
       "    <tr style=\"text-align: right;\">\n",
       "      <th></th>\n",
       "      <th>Time</th>\n",
       "      <th>Tweets</th>\n",
       "    </tr>\n",
       "  </thead>\n",
       "  <tbody>\n",
       "    <tr>\n",
       "      <th>0</th>\n",
       "      <td>Sat Mar 03 07:54:08 +0000 2018</td>\n",
       "      <td>@SFBARTalert 15min+ delay Richmond-bound line holding at MacArthur no updates what gives</td>\n",
       "    </tr>\n",
       "    <tr>\n",
       "      <th>1</th>\n",
       "      <td>Sat Mar 03 07:54:08 +0000 2018</td>\n",
       "      <td>RT @SFBARTalert: 10 min delay at DELN on RICH line in WARM, RICH and MLBR dirs due to police activity.</td>\n",
       "    </tr>\n",
       "    <tr>\n",
       "      <th>2</th>\n",
       "      <td>Sat Mar 03 07:54:08 +0000 2018</td>\n",
       "      <td>RT @SFBARTalert: 10 min delay on WARM line in DUBL, WARM, RICH and DALY dirs due to a medical emergency.</td>\n",
       "    </tr>\n",
       "    <tr>\n",
       "      <th>3</th>\n",
       "      <td>Sat Mar 03 07:54:08 +0000 2018</td>\n",
       "      <td>RT @SFBARTalert: 10 min delay on PITT line in PITT dir due to police activity.</td>\n",
       "    </tr>\n",
       "    <tr>\n",
       "      <th>4</th>\n",
       "      <td>Sat Mar 03 07:54:08 +0000 2018</td>\n",
       "      <td>RT @SFBARTalert: Major delay at MACR in PITT, FRMT, RICH and SF dirs due to a major medical emergency.</td>\n",
       "    </tr>\n",
       "    <tr>\n",
       "      <th>5</th>\n",
       "      <td>Sat Mar 03 07:54:08 +0000 2018</td>\n",
       "      <td>RT @SFBARTalert: Major delay on WARM line in DUBL, WARM, RICH and DALY dirs due to equip prob.</td>\n",
       "    </tr>\n",
       "    <tr>\n",
       "      <th>6</th>\n",
       "      <td>Sat Mar 03 07:54:08 +0000 2018</td>\n",
       "      <td>RT @SFBARTalert: 10 min delay on WARM line in RICH and DALY dirs due to equip prob.</td>\n",
       "    </tr>\n",
       "    <tr>\n",
       "      <th>7</th>\n",
       "      <td>Sat Mar 03 07:54:08 +0000 2018</td>\n",
       "      <td>@SFBARTalert 5 min delay for Pittsburgh to SF line</td>\n",
       "    </tr>\n",
       "  </tbody>\n",
       "</table>\n",
       "</div>"
      ],
      "text/plain": [
       "                             Time  \\\n",
       "0  Sat Mar 03 07:54:08 +0000 2018   \n",
       "1  Sat Mar 03 07:54:08 +0000 2018   \n",
       "2  Sat Mar 03 07:54:08 +0000 2018   \n",
       "3  Sat Mar 03 07:54:08 +0000 2018   \n",
       "4  Sat Mar 03 07:54:08 +0000 2018   \n",
       "5  Sat Mar 03 07:54:08 +0000 2018   \n",
       "6  Sat Mar 03 07:54:08 +0000 2018   \n",
       "7  Sat Mar 03 07:54:08 +0000 2018   \n",
       "\n",
       "                                                                                                     Tweets  \n",
       "0  @SFBARTalert 15min+ delay Richmond-bound line holding at MacArthur no updates what gives                  \n",
       "1  RT @SFBARTalert: 10 min delay at DELN on RICH line in WARM, RICH and MLBR dirs due to police activity.    \n",
       "2  RT @SFBARTalert: 10 min delay on WARM line in DUBL, WARM, RICH and DALY dirs due to a medical emergency.  \n",
       "3  RT @SFBARTalert: 10 min delay on PITT line in PITT dir due to police activity.                            \n",
       "4  RT @SFBARTalert: Major delay at MACR in PITT, FRMT, RICH and SF dirs due to a major medical emergency.    \n",
       "5  RT @SFBARTalert: Major delay on WARM line in DUBL, WARM, RICH and DALY dirs due to equip prob.            \n",
       "6  RT @SFBARTalert: 10 min delay on WARM line in RICH and DALY dirs due to equip prob.                       \n",
       "7  @SFBARTalert 5 min delay for Pittsburgh to SF line                                                        "
      ]
     },
     "execution_count": 107,
     "metadata": {},
     "output_type": "execute_result"
    }
   ],
   "source": [
    "#cleaning round2: discard duplicate tweets if they are at tweeted after each other.\n",
    "tweets=[]\n",
    "times=[]\n",
    "zipped=list(zip(times_clean1,tweets_clean1))\n",
    "i=0 #left compare pointer\n",
    "j=1 #right compare pointer\n",
    "\n",
    "\n",
    "#add in the first item because it does not require comparison\n",
    "tweets.append(tweets_clean1[0])\n",
    "times.append(times_clean1[0])\n",
    "\n",
    "for time,tweet in zipped:\n",
    "    if tweets_clean1[i]==tweet:\n",
    "        pass\n",
    "    else:\n",
    "#         print(\"---\")\n",
    "#         print(\">\"+tweets_clean1[i])\n",
    "#         print(\">\"+tweet)\n",
    "        tweets.append(tweet)\n",
    "        times.append(time)\n",
    "        i=j\n",
    "    j+=1\n",
    "\n",
    "d={\"Tweets\":tweets,\"Time\":time}\n",
    "df=pd.DataFrame(d)\n",
    "df.head(30)"
   ]
  },
  {
   "cell_type": "code",
   "execution_count": null,
   "metadata": {},
   "outputs": [],
   "source": []
  }
 ],
 "metadata": {
  "kernelspec": {
   "display_name": "Python [PythonData]",
   "language": "python",
   "name": "pythondata"
  },
  "language_info": {
   "codemirror_mode": {
    "name": "ipython",
    "version": 3
   },
   "file_extension": ".py",
   "mimetype": "text/x-python",
   "name": "python",
   "nbconvert_exporter": "python",
   "pygments_lexer": "ipython3",
   "version": "3.6.4"
  }
 },
 "nbformat": 4,
 "nbformat_minor": 2
}
