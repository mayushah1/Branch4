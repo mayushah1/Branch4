{
 "cells": [
  {
   "cell_type": "code",
   "execution_count": 7,
   "metadata": {},
   "outputs": [
    {
     "data": {
      "text/plain": [
       "'\\nName: Lena Corredor\\nResource: @SFBARTalert\\nDescription: From BART Twitter account, find out how many delays Bart has each week.\\nversion 3: Graph by month'"
      ]
     },
     "execution_count": 7,
     "metadata": {},
     "output_type": "execute_result"
    }
   ],
   "source": [
    "'''\n",
    "Name: Lena Corredor\n",
    "Resource: @SFBARTalert\n",
    "Description: From BART Twitter account, find out how many delays Bart has each week.\n",
    "version 3: Graph by month'''"
   ]
  },
  {
   "cell_type": "code",
   "execution_count": 8,
   "metadata": {},
   "outputs": [],
   "source": [
    "# Dependencies\n",
    "import json\n",
    "from pprint import pprint\n",
    "import pandas as pd\n",
    "import matplotlib.pyplot as plt\n",
    "import numpy as np\n",
    "import seaborn as sns\n",
    "#Set dataframe to show entire width\n",
    "pd.set_option('display.max_colwidth', -1)"
   ]
  },
  {
   "cell_type": "code",
   "execution_count": 9,
   "metadata": {},
   "outputs": [
    {
     "data": {
      "text/html": [
       "<div>\n",
       "<style scoped>\n",
       "    .dataframe tbody tr th:only-of-type {\n",
       "        vertical-align: middle;\n",
       "    }\n",
       "\n",
       "    .dataframe tbody tr th {\n",
       "        vertical-align: top;\n",
       "    }\n",
       "\n",
       "    .dataframe thead th {\n",
       "        text-align: right;\n",
       "    }\n",
       "</style>\n",
       "<table border=\"1\" class=\"dataframe\">\n",
       "  <thead>\n",
       "    <tr style=\"text-align: right;\">\n",
       "      <th></th>\n",
       "      <th>Date</th>\n",
       "      <th>Message</th>\n",
       "    </tr>\n",
       "  </thead>\n",
       "  <tbody>\n",
       "    <tr>\n",
       "      <th>0</th>\n",
       "      <td>Mar 11, 2018</td>\n",
       "      <td>BART recovering: 10 min delay on SF line in SFO and MLBR dirs due to obstruction.</td>\n",
       "    </tr>\n",
       "    <tr>\n",
       "      <th>1</th>\n",
       "      <td>Mar 10, 2018</td>\n",
       "      <td>BART recovering: 10 min delay at DELN on RICH line in WARM, RICH and MLBR dirs due to police activity.</td>\n",
       "    </tr>\n",
       "    <tr>\n",
       "      <th>2</th>\n",
       "      <td>Mar 10, 2018</td>\n",
       "      <td>10 min delay at DELN on RICH line in WARM, RICH and MLBR dirs due to police activity.</td>\n",
       "    </tr>\n",
       "    <tr>\n",
       "      <th>3</th>\n",
       "      <td>Mar 09, 2018</td>\n",
       "      <td>Oak airport connector is back in svc.</td>\n",
       "    </tr>\n",
       "    <tr>\n",
       "      <th>4</th>\n",
       "      <td>Mar 09, 2018</td>\n",
       "      <td>Oak airport connector is out of svc due to mechanical probs. For Oak airport take ac transit bus #73 from COLS stn.</td>\n",
       "    </tr>\n",
       "  </tbody>\n",
       "</table>\n",
       "</div>"
      ],
      "text/plain": [
       "            Date  \\\n",
       "0  Mar 11, 2018    \n",
       "1  Mar 10, 2018    \n",
       "2  Mar 10, 2018    \n",
       "3  Mar 09, 2018    \n",
       "4  Mar 09, 2018    \n",
       "\n",
       "                                                                                                                Message  \n",
       "0  BART recovering: 10 min delay on SF line in SFO and MLBR dirs due to obstruction.                                     \n",
       "1  BART recovering: 10 min delay at DELN on RICH line in WARM, RICH and MLBR dirs due to police activity.                \n",
       "2  10 min delay at DELN on RICH line in WARM, RICH and MLBR dirs due to police activity.                                 \n",
       "3  Oak airport connector is back in svc.                                                                                 \n",
       "4  Oak airport connector is out of svc due to mechanical probs. For Oak airport take ac transit bus #73 from COLS stn.   "
      ]
     },
     "execution_count": 9,
     "metadata": {},
     "output_type": "execute_result"
    }
   ],
   "source": [
    "path=\"../../03_Data/lena/lena_delay_raw.csv\"\n",
    "\n",
    "df=pd.read_csv(path)\n",
    "df.head()"
   ]
  },
  {
   "cell_type": "code",
   "execution_count": 10,
   "metadata": {},
   "outputs": [
    {
     "name": "stdout",
     "output_type": "stream",
     "text": [
      "(1374, 2)\n"
     ]
    },
    {
     "data": {
      "text/plain": [
       "True"
      ]
     },
     "execution_count": 10,
     "metadata": {},
     "output_type": "execute_result"
    }
   ],
   "source": [
    "#Clean1: Drop rows that contains BART recovering bc we want unique rows \n",
    "#          that identifies the delays\n",
    "print(df[df.Message.str.contains('BART recovering')].shape)\n",
    "df3=df.loc[~df[\"Message\"].str.contains('BART recovering'),:]\n",
    "\n",
    "# print(df.shape)\n",
    "# print(df2.shape)\n",
    "# print(df3.shape)\n",
    "bool(df3.is_copy)"
   ]
  },
  {
   "cell_type": "code",
   "execution_count": 11,
   "metadata": {},
   "outputs": [
    {
     "data": {
      "text/html": [
       "<div>\n",
       "<style scoped>\n",
       "    .dataframe tbody tr th:only-of-type {\n",
       "        vertical-align: middle;\n",
       "    }\n",
       "\n",
       "    .dataframe tbody tr th {\n",
       "        vertical-align: top;\n",
       "    }\n",
       "\n",
       "    .dataframe thead th {\n",
       "        text-align: right;\n",
       "    }\n",
       "</style>\n",
       "<table border=\"1\" class=\"dataframe\">\n",
       "  <thead>\n",
       "    <tr style=\"text-align: right;\">\n",
       "      <th></th>\n",
       "      <th>Date</th>\n",
       "      <th>Message</th>\n",
       "    </tr>\n",
       "  </thead>\n",
       "  <tbody>\n",
       "    <tr>\n",
       "      <th>2</th>\n",
       "      <td>Mar 10, 2018</td>\n",
       "      <td>10 min delay at DELN on RICH line in WARM, RICH and MLBR dirs due to police activity.</td>\n",
       "    </tr>\n",
       "    <tr>\n",
       "      <th>3</th>\n",
       "      <td>Mar 09, 2018</td>\n",
       "      <td>Oak airport connector is back in svc.</td>\n",
       "    </tr>\n",
       "    <tr>\n",
       "      <th>4</th>\n",
       "      <td>Mar 09, 2018</td>\n",
       "      <td>Oak airport connector is out of svc due to mechanical probs. For Oak airport take ac transit bus #73 from COLS stn.</td>\n",
       "    </tr>\n",
       "    <tr>\n",
       "      <th>6</th>\n",
       "      <td>Mar 09, 2018</td>\n",
       "      <td>10 min delay on WARM line in DUBL, WARM, RICH and DALY dirs due to a medical emergency.</td>\n",
       "    </tr>\n",
       "    <tr>\n",
       "      <th>8</th>\n",
       "      <td>Mar 09, 2018</td>\n",
       "      <td>10 min delay on PITT line in PITT dir due to police activity.</td>\n",
       "    </tr>\n",
       "  </tbody>\n",
       "</table>\n",
       "</div>"
      ],
      "text/plain": [
       "            Date  \\\n",
       "2  Mar 10, 2018    \n",
       "3  Mar 09, 2018    \n",
       "4  Mar 09, 2018    \n",
       "6  Mar 09, 2018    \n",
       "8  Mar 09, 2018    \n",
       "\n",
       "                                                                                                                Message  \n",
       "2  10 min delay at DELN on RICH line in WARM, RICH and MLBR dirs due to police activity.                                 \n",
       "3  Oak airport connector is back in svc.                                                                                 \n",
       "4  Oak airport connector is out of svc due to mechanical probs. For Oak airport take ac transit bus #73 from COLS stn.   \n",
       "6  10 min delay on WARM line in DUBL, WARM, RICH and DALY dirs due to a medical emergency.                               \n",
       "8  10 min delay on PITT line in PITT dir due to police activity.                                                         "
      ]
     },
     "execution_count": 11,
     "metadata": {},
     "output_type": "execute_result"
    }
   ],
   "source": [
    "df3.head()"
   ]
  },
  {
   "cell_type": "code",
   "execution_count": 12,
   "metadata": {},
   "outputs": [
    {
     "name": "stdout",
     "output_type": "stream",
     "text": [
      "(1555, 2)\n"
     ]
    },
    {
     "data": {
      "text/html": [
       "<div>\n",
       "<style scoped>\n",
       "    .dataframe tbody tr th:only-of-type {\n",
       "        vertical-align: middle;\n",
       "    }\n",
       "\n",
       "    .dataframe tbody tr th {\n",
       "        vertical-align: top;\n",
       "    }\n",
       "\n",
       "    .dataframe thead th {\n",
       "        text-align: right;\n",
       "    }\n",
       "</style>\n",
       "<table border=\"1\" class=\"dataframe\">\n",
       "  <thead>\n",
       "    <tr style=\"text-align: right;\">\n",
       "      <th></th>\n",
       "      <th>Date</th>\n",
       "      <th>Message</th>\n",
       "    </tr>\n",
       "  </thead>\n",
       "  <tbody>\n",
       "    <tr>\n",
       "      <th>2</th>\n",
       "      <td>Mar 10, 2018</td>\n",
       "      <td>10 min delay at DELN on RICH line in WARM, RICH and MLBR dirs due to police activity.</td>\n",
       "    </tr>\n",
       "    <tr>\n",
       "      <th>6</th>\n",
       "      <td>Mar 09, 2018</td>\n",
       "      <td>10 min delay on WARM line in DUBL, WARM, RICH and DALY dirs due to a medical emergency.</td>\n",
       "    </tr>\n",
       "    <tr>\n",
       "      <th>8</th>\n",
       "      <td>Mar 09, 2018</td>\n",
       "      <td>10 min delay on PITT line in PITT dir due to police activity.</td>\n",
       "    </tr>\n",
       "    <tr>\n",
       "      <th>12</th>\n",
       "      <td>Mar 08, 2018</td>\n",
       "      <td>Major delay at MACR in PITT, FRMT, RICH and SF dirs due to a major medical emergency.</td>\n",
       "    </tr>\n",
       "    <tr>\n",
       "      <th>17</th>\n",
       "      <td>Mar 07, 2018</td>\n",
       "      <td>Major delay on WARM line in DUBL, WARM, RICH and DALY dirs due to equip prob.</td>\n",
       "    </tr>\n",
       "  </tbody>\n",
       "</table>\n",
       "</div>"
      ],
      "text/plain": [
       "             Date  \\\n",
       "2   Mar 10, 2018    \n",
       "6   Mar 09, 2018    \n",
       "8   Mar 09, 2018    \n",
       "12  Mar 08, 2018    \n",
       "17  Mar 07, 2018    \n",
       "\n",
       "                                                                                     Message  \n",
       "2   10 min delay at DELN on RICH line in WARM, RICH and MLBR dirs due to police activity.     \n",
       "6   10 min delay on WARM line in DUBL, WARM, RICH and DALY dirs due to a medical emergency.   \n",
       "8   10 min delay on PITT line in PITT dir due to police activity.                             \n",
       "12  Major delay at MACR in PITT, FRMT, RICH and SF dirs due to a major medical emergency.     \n",
       "17  Major delay on WARM line in DUBL, WARM, RICH and DALY dirs due to equip prob.             "
      ]
     },
     "execution_count": 12,
     "metadata": {},
     "output_type": "execute_result"
    }
   ],
   "source": [
    "#Clean2: filter rows with 'delay\n",
    "df4=df3[df3.Message.str.contains('delay',case=False)]\n",
    "print(df4.shape)\n",
    "df4.head()"
   ]
  },
  {
   "cell_type": "code",
   "execution_count": 13,
   "metadata": {},
   "outputs": [
    {
     "data": {
      "text/html": [
       "<div>\n",
       "<style scoped>\n",
       "    .dataframe tbody tr th:only-of-type {\n",
       "        vertical-align: middle;\n",
       "    }\n",
       "\n",
       "    .dataframe tbody tr th {\n",
       "        vertical-align: top;\n",
       "    }\n",
       "\n",
       "    .dataframe thead th {\n",
       "        text-align: right;\n",
       "    }\n",
       "</style>\n",
       "<table border=\"1\" class=\"dataframe\">\n",
       "  <thead>\n",
       "    <tr style=\"text-align: right;\">\n",
       "      <th></th>\n",
       "      <th>Date</th>\n",
       "      <th>Message</th>\n",
       "    </tr>\n",
       "  </thead>\n",
       "  <tbody>\n",
       "    <tr>\n",
       "      <th>2</th>\n",
       "      <td>Mar 10, 2018</td>\n",
       "      <td>10 min delay at DELN on RICH line in WARM, RICH and MLBR dirs due to police activity.</td>\n",
       "    </tr>\n",
       "    <tr>\n",
       "      <th>6</th>\n",
       "      <td>Mar 09, 2018</td>\n",
       "      <td>10 min delay on WARM line in DUBL, WARM, RICH and DALY dirs due to a medical emergency.</td>\n",
       "    </tr>\n",
       "    <tr>\n",
       "      <th>8</th>\n",
       "      <td>Mar 09, 2018</td>\n",
       "      <td>10 min delay on PITT line in PITT dir due to police activity.</td>\n",
       "    </tr>\n",
       "    <tr>\n",
       "      <th>12</th>\n",
       "      <td>Mar 08, 2018</td>\n",
       "      <td>Major delay at MACR in PITT, FRMT, RICH and SF dirs due to a major medical emergency.</td>\n",
       "    </tr>\n",
       "    <tr>\n",
       "      <th>17</th>\n",
       "      <td>Mar 07, 2018</td>\n",
       "      <td>Major delay on WARM line in DUBL, WARM, RICH and DALY dirs due to equip prob.</td>\n",
       "    </tr>\n",
       "  </tbody>\n",
       "</table>\n",
       "</div>"
      ],
      "text/plain": [
       "             Date  \\\n",
       "2   Mar 10, 2018    \n",
       "6   Mar 09, 2018    \n",
       "8   Mar 09, 2018    \n",
       "12  Mar 08, 2018    \n",
       "17  Mar 07, 2018    \n",
       "\n",
       "                                                                                     Message  \n",
       "2   10 min delay at DELN on RICH line in WARM, RICH and MLBR dirs due to police activity.     \n",
       "6   10 min delay on WARM line in DUBL, WARM, RICH and DALY dirs due to a medical emergency.   \n",
       "8   10 min delay on PITT line in PITT dir due to police activity.                             \n",
       "12  Major delay at MACR in PITT, FRMT, RICH and SF dirs due to a major medical emergency.     \n",
       "17  Major delay on WARM line in DUBL, WARM, RICH and DALY dirs due to equip prob.             "
      ]
     },
     "execution_count": 13,
     "metadata": {},
     "output_type": "execute_result"
    }
   ],
   "source": [
    "#Clean3: drop duplicates\n",
    "#this df shows tweets with delays\n",
    "df5=df4.drop_duplicates()\n",
    "df5.shape\n",
    "df5.head()"
   ]
  },
  {
   "cell_type": "code",
   "execution_count": 14,
   "metadata": {},
   "outputs": [
    {
     "name": "stderr",
     "output_type": "stream",
     "text": [
      "/Users/lena/anaconda3/envs/PythonData/lib/python3.6/site-packages/ipykernel_launcher.py:3: SettingWithCopyWarning: \n",
      "A value is trying to be set on a copy of a slice from a DataFrame.\n",
      "Try using .loc[row_indexer,col_indexer] = value instead\n",
      "\n",
      "See the caveats in the documentation: http://pandas.pydata.org/pandas-docs/stable/indexing.html#indexing-view-versus-copy\n",
      "  This is separate from the ipykernel package so we can avoid doing imports until\n",
      "/Users/lena/anaconda3/envs/PythonData/lib/python3.6/site-packages/ipykernel_launcher.py:4: SettingWithCopyWarning: \n",
      "A value is trying to be set on a copy of a slice from a DataFrame.\n",
      "Try using .loc[row_indexer,col_indexer] = value instead\n",
      "\n",
      "See the caveats in the documentation: http://pandas.pydata.org/pandas-docs/stable/indexing.html#indexing-view-versus-copy\n",
      "  after removing the cwd from sys.path.\n"
     ]
    },
    {
     "data": {
      "text/html": [
       "<div>\n",
       "<style scoped>\n",
       "    .dataframe tbody tr th:only-of-type {\n",
       "        vertical-align: middle;\n",
       "    }\n",
       "\n",
       "    .dataframe tbody tr th {\n",
       "        vertical-align: top;\n",
       "    }\n",
       "\n",
       "    .dataframe thead th {\n",
       "        text-align: right;\n",
       "    }\n",
       "</style>\n",
       "<table border=\"1\" class=\"dataframe\">\n",
       "  <thead>\n",
       "    <tr style=\"text-align: right;\">\n",
       "      <th></th>\n",
       "      <th>Date</th>\n",
       "      <th>Message</th>\n",
       "      <th>Month</th>\n",
       "    </tr>\n",
       "  </thead>\n",
       "  <tbody>\n",
       "    <tr>\n",
       "      <th>2</th>\n",
       "      <td>2018-03-10</td>\n",
       "      <td>10 min delay at DELN on RICH line in WARM, RICH and MLBR dirs due to police activity.</td>\n",
       "      <td>3</td>\n",
       "    </tr>\n",
       "    <tr>\n",
       "      <th>6</th>\n",
       "      <td>2018-03-09</td>\n",
       "      <td>10 min delay on WARM line in DUBL, WARM, RICH and DALY dirs due to a medical emergency.</td>\n",
       "      <td>3</td>\n",
       "    </tr>\n",
       "    <tr>\n",
       "      <th>8</th>\n",
       "      <td>2018-03-09</td>\n",
       "      <td>10 min delay on PITT line in PITT dir due to police activity.</td>\n",
       "      <td>3</td>\n",
       "    </tr>\n",
       "    <tr>\n",
       "      <th>12</th>\n",
       "      <td>2018-03-08</td>\n",
       "      <td>Major delay at MACR in PITT, FRMT, RICH and SF dirs due to a major medical emergency.</td>\n",
       "      <td>3</td>\n",
       "    </tr>\n",
       "    <tr>\n",
       "      <th>17</th>\n",
       "      <td>2018-03-07</td>\n",
       "      <td>Major delay on WARM line in DUBL, WARM, RICH and DALY dirs due to equip prob.</td>\n",
       "      <td>3</td>\n",
       "    </tr>\n",
       "  </tbody>\n",
       "</table>\n",
       "</div>"
      ],
      "text/plain": [
       "         Date  \\\n",
       "2  2018-03-10   \n",
       "6  2018-03-09   \n",
       "8  2018-03-09   \n",
       "12 2018-03-08   \n",
       "17 2018-03-07   \n",
       "\n",
       "                                                                                     Message  \\\n",
       "2   10 min delay at DELN on RICH line in WARM, RICH and MLBR dirs due to police activity.      \n",
       "6   10 min delay on WARM line in DUBL, WARM, RICH and DALY dirs due to a medical emergency.    \n",
       "8   10 min delay on PITT line in PITT dir due to police activity.                              \n",
       "12  Major delay at MACR in PITT, FRMT, RICH and SF dirs due to a major medical emergency.      \n",
       "17  Major delay on WARM line in DUBL, WARM, RICH and DALY dirs due to equip prob.              \n",
       "\n",
       "    Month  \n",
       "2   3      \n",
       "6   3      \n",
       "8   3      \n",
       "12  3      \n",
       "17  3      "
      ]
     },
     "execution_count": 14,
     "metadata": {},
     "output_type": "execute_result"
    }
   ],
   "source": [
    "#Add a column to represent the week number\n",
    "# bool(df5.is_copy)\n",
    "df5['Date']=pd.to_datetime(df5['Date'], infer_datetime_format=True)\n",
    "df5['Month'] = df5['Date'].dt.month\n",
    "df5.head()"
   ]
  },
  {
   "cell_type": "code",
   "execution_count": 15,
   "metadata": {},
   "outputs": [
    {
     "data": {
      "text/html": [
       "<div>\n",
       "<style scoped>\n",
       "    .dataframe tbody tr th:only-of-type {\n",
       "        vertical-align: middle;\n",
       "    }\n",
       "\n",
       "    .dataframe tbody tr th {\n",
       "        vertical-align: top;\n",
       "    }\n",
       "\n",
       "    .dataframe thead th {\n",
       "        text-align: right;\n",
       "    }\n",
       "</style>\n",
       "<table border=\"1\" class=\"dataframe\">\n",
       "  <thead>\n",
       "    <tr style=\"text-align: right;\">\n",
       "      <th></th>\n",
       "      <th>Date</th>\n",
       "      <th>Message</th>\n",
       "      <th>Month</th>\n",
       "    </tr>\n",
       "  </thead>\n",
       "  <tbody>\n",
       "    <tr>\n",
       "      <th>12</th>\n",
       "      <td>2018-03-08</td>\n",
       "      <td>Major delay at MACR in PITT, FRMT, RICH and SF dirs due to a major medical emergency.</td>\n",
       "      <td>3</td>\n",
       "    </tr>\n",
       "    <tr>\n",
       "      <th>17</th>\n",
       "      <td>2018-03-07</td>\n",
       "      <td>Major delay on WARM line in DUBL, WARM, RICH and DALY dirs due to equip prob.</td>\n",
       "      <td>3</td>\n",
       "    </tr>\n",
       "    <tr>\n",
       "      <th>39</th>\n",
       "      <td>2018-02-27</td>\n",
       "      <td>Major delay between 24TH and GLEN on SF line in SFO, MLBR, DALY and East Bay dirs due to equip prob.</td>\n",
       "      <td>2</td>\n",
       "    </tr>\n",
       "    <tr>\n",
       "      <th>52</th>\n",
       "      <td>2018-02-26</td>\n",
       "      <td>Major delay at NCON in PITT and SFO dirs due to a major medical emergency.</td>\n",
       "      <td>2</td>\n",
       "    </tr>\n",
       "    <tr>\n",
       "      <th>84</th>\n",
       "      <td>2018-02-17</td>\n",
       "      <td>Major delay in berkeley hills tunnel in PITT, SFO and MLBR dirs due to track maint.</td>\n",
       "      <td>2</td>\n",
       "    </tr>\n",
       "  </tbody>\n",
       "</table>\n",
       "</div>"
      ],
      "text/plain": [
       "         Date  \\\n",
       "12 2018-03-08   \n",
       "17 2018-03-07   \n",
       "39 2018-02-27   \n",
       "52 2018-02-26   \n",
       "84 2018-02-17   \n",
       "\n",
       "                                                                                                  Message  \\\n",
       "12  Major delay at MACR in PITT, FRMT, RICH and SF dirs due to a major medical emergency.                   \n",
       "17  Major delay on WARM line in DUBL, WARM, RICH and DALY dirs due to equip prob.                           \n",
       "39  Major delay between 24TH and GLEN on SF line in SFO, MLBR, DALY and East Bay dirs due to equip prob.    \n",
       "52  Major delay at NCON in PITT and SFO dirs due to a major medical emergency.                              \n",
       "84  Major delay in berkeley hills tunnel in PITT, SFO and MLBR dirs due to track maint.                     \n",
       "\n",
       "    Month  \n",
       "12  3      \n",
       "17  3      \n",
       "39  2      \n",
       "52  2      \n",
       "84  2      "
      ]
     },
     "execution_count": 15,
     "metadata": {},
     "output_type": "execute_result"
    }
   ],
   "source": [
    "#create a df for tweets contains major delay\n",
    "df_major=df5[df5.Message.str.contains('major delay',case=False)]\n",
    "df_major.shape\n",
    "df_major.head()"
   ]
  },
  {
   "cell_type": "code",
   "execution_count": 16,
   "metadata": {},
   "outputs": [
    {
     "name": "stdout",
     "output_type": "stream",
     "text": [
      "67.0\n",
      "7.0\n"
     ]
    }
   ],
   "source": [
    "avg_delay=(df5.Date.count()/23).round()\n",
    "avg_mdelay=(df_major.Date.count()/23).round()\n",
    "print(avg_delay)\n",
    "print(avg_mdelay)"
   ]
  },
  {
   "cell_type": "code",
   "execution_count": 17,
   "metadata": {},
   "outputs": [
    {
     "data": {
      "text/plain": [
       "dtype('<M8[ns]')"
      ]
     },
     "execution_count": 17,
     "metadata": {},
     "output_type": "execute_result"
    }
   ],
   "source": [
    "df5.Date.dtype"
   ]
  },
  {
   "cell_type": "code",
   "execution_count": 18,
   "metadata": {},
   "outputs": [
    {
     "data": {
      "text/plain": [
       "True"
      ]
     },
     "execution_count": 18,
     "metadata": {},
     "output_type": "execute_result"
    }
   ],
   "source": [
    "np.dtype('datetime64[ns]') == np.dtype('<M8[ns]')"
   ]
  },
  {
   "cell_type": "code",
   "execution_count": 19,
   "metadata": {},
   "outputs": [
    {
     "name": "stdout",
     "output_type": "stream",
     "text": [
      "2018-02-27 00:00:00\n",
      "2018-01-03 00:00:00\n",
      "2017-12-30 00:00:00\n",
      "2017-01-02 00:00:00\n",
      "2016-12-30 00:00:00\n",
      "2016-03-01 00:00:00\n",
      "(531, 3)\n",
      "(860, 3)\n",
      "(112, 3)\n"
     ]
    },
    {
     "data": {
      "text/html": [
       "<div>\n",
       "<style scoped>\n",
       "    .dataframe tbody tr th:only-of-type {\n",
       "        vertical-align: middle;\n",
       "    }\n",
       "\n",
       "    .dataframe tbody tr th {\n",
       "        vertical-align: top;\n",
       "    }\n",
       "\n",
       "    .dataframe thead th {\n",
       "        text-align: right;\n",
       "    }\n",
       "</style>\n",
       "<table border=\"1\" class=\"dataframe\">\n",
       "  <thead>\n",
       "    <tr style=\"text-align: right;\">\n",
       "      <th></th>\n",
       "      <th>Date</th>\n",
       "      <th>Message</th>\n",
       "      <th>Month</th>\n",
       "    </tr>\n",
       "  </thead>\n",
       "  <tbody>\n",
       "    <tr>\n",
       "      <th>2049</th>\n",
       "      <td>2016-12-30</td>\n",
       "      <td>Major delay in transbay tube in SFO, MLBR, DALY and East Bay dirs due to person(s) on track.</td>\n",
       "      <td>12</td>\n",
       "    </tr>\n",
       "    <tr>\n",
       "      <th>2050</th>\n",
       "      <td>2016-12-30</td>\n",
       "      <td>Major delay in transbay tube in East Bay dir due to person(s) on track.</td>\n",
       "      <td>12</td>\n",
       "    </tr>\n",
       "    <tr>\n",
       "      <th>2051</th>\n",
       "      <td>2016-12-30</td>\n",
       "      <td>20 min delay in transbay tube in East Bay dir due to person(s) on track.</td>\n",
       "      <td>12</td>\n",
       "    </tr>\n",
       "    <tr>\n",
       "      <th>2052</th>\n",
       "      <td>2016-12-30</td>\n",
       "      <td>10 min delay in transbay tube in East Bay dir due to person(s) on track.</td>\n",
       "      <td>12</td>\n",
       "    </tr>\n",
       "    <tr>\n",
       "      <th>2058</th>\n",
       "      <td>2016-12-28</td>\n",
       "      <td>10 min delay at DALY in SFO and MLBR dirs.</td>\n",
       "      <td>12</td>\n",
       "    </tr>\n",
       "  </tbody>\n",
       "</table>\n",
       "</div>"
      ],
      "text/plain": [
       "           Date  \\\n",
       "2049 2016-12-30   \n",
       "2050 2016-12-30   \n",
       "2051 2016-12-30   \n",
       "2052 2016-12-30   \n",
       "2058 2016-12-28   \n",
       "\n",
       "                                                                                            Message  \\\n",
       "2049  Major delay in transbay tube in SFO, MLBR, DALY and East Bay dirs due to person(s) on track.    \n",
       "2050  Major delay in transbay tube in East Bay dir due to person(s) on track.                         \n",
       "2051  20 min delay in transbay tube in East Bay dir due to person(s) on track.                        \n",
       "2052  10 min delay in transbay tube in East Bay dir due to person(s) on track.                        \n",
       "2058  10 min delay at DALY in SFO and MLBR dirs.                                                      \n",
       "\n",
       "      Month  \n",
       "2049  12     \n",
       "2050  12     \n",
       "2051  12     \n",
       "2052  12     \n",
       "2058  12     "
      ]
     },
     "metadata": {},
     "output_type": "display_data"
    },
    {
     "data": {
      "text/html": [
       "<div>\n",
       "<style scoped>\n",
       "    .dataframe tbody tr th:only-of-type {\n",
       "        vertical-align: middle;\n",
       "    }\n",
       "\n",
       "    .dataframe tbody tr th {\n",
       "        vertical-align: top;\n",
       "    }\n",
       "\n",
       "    .dataframe thead th {\n",
       "        text-align: right;\n",
       "    }\n",
       "</style>\n",
       "<table border=\"1\" class=\"dataframe\">\n",
       "  <thead>\n",
       "    <tr style=\"text-align: right;\">\n",
       "      <th></th>\n",
       "      <th>Date</th>\n",
       "      <th>Message</th>\n",
       "      <th>Month</th>\n",
       "    </tr>\n",
       "  </thead>\n",
       "  <tbody>\n",
       "    <tr>\n",
       "      <th>252</th>\n",
       "      <td>2017-12-30</td>\n",
       "      <td>10 min delay at HAYW in RICH and DALY dirs due to police activity.</td>\n",
       "      <td>12</td>\n",
       "    </tr>\n",
       "    <tr>\n",
       "      <th>258</th>\n",
       "      <td>2017-12-26</td>\n",
       "      <td>10 min delay at 12TH in PITT, DUBL, WARM, FRMT, RICH, SFO, MLBR and DALY dirs due to police activity.</td>\n",
       "      <td>12</td>\n",
       "    </tr>\n",
       "    <tr>\n",
       "      <th>260</th>\n",
       "      <td>2017-12-26</td>\n",
       "      <td>10 min delay at DELN in RICH dir due to a medical emergency.</td>\n",
       "      <td>12</td>\n",
       "    </tr>\n",
       "    <tr>\n",
       "      <th>264</th>\n",
       "      <td>2017-12-26</td>\n",
       "      <td>20 min delay at BALB in SFO, MLBR and DALY dirs due to a medical emergency.</td>\n",
       "      <td>12</td>\n",
       "    </tr>\n",
       "    <tr>\n",
       "      <th>265</th>\n",
       "      <td>2017-12-26</td>\n",
       "      <td>10 min delay at BALB in SFO, MLBR and DALY dirs due to a medical emergency.</td>\n",
       "      <td>12</td>\n",
       "    </tr>\n",
       "  </tbody>\n",
       "</table>\n",
       "</div>"
      ],
      "text/plain": [
       "          Date  \\\n",
       "252 2017-12-30   \n",
       "258 2017-12-26   \n",
       "260 2017-12-26   \n",
       "264 2017-12-26   \n",
       "265 2017-12-26   \n",
       "\n",
       "                                                                                                    Message  \\\n",
       "252  10 min delay at HAYW in RICH and DALY dirs due to police activity.                                       \n",
       "258  10 min delay at 12TH in PITT, DUBL, WARM, FRMT, RICH, SFO, MLBR and DALY dirs due to police activity.    \n",
       "260  10 min delay at DELN in RICH dir due to a medical emergency.                                             \n",
       "264  20 min delay at BALB in SFO, MLBR and DALY dirs due to a medical emergency.                              \n",
       "265  10 min delay at BALB in SFO, MLBR and DALY dirs due to a medical emergency.                              \n",
       "\n",
       "     Month  \n",
       "252  12     \n",
       "258  12     \n",
       "260  12     \n",
       "264  12     \n",
       "265  12     "
      ]
     },
     "metadata": {},
     "output_type": "display_data"
    },
    {
     "data": {
      "text/html": [
       "<div>\n",
       "<style scoped>\n",
       "    .dataframe tbody tr th:only-of-type {\n",
       "        vertical-align: middle;\n",
       "    }\n",
       "\n",
       "    .dataframe tbody tr th {\n",
       "        vertical-align: top;\n",
       "    }\n",
       "\n",
       "    .dataframe thead th {\n",
       "        text-align: right;\n",
       "    }\n",
       "</style>\n",
       "<table border=\"1\" class=\"dataframe\">\n",
       "  <thead>\n",
       "    <tr style=\"text-align: right;\">\n",
       "      <th></th>\n",
       "      <th>Date</th>\n",
       "      <th>Message</th>\n",
       "      <th>Month</th>\n",
       "    </tr>\n",
       "  </thead>\n",
       "  <tbody>\n",
       "    <tr>\n",
       "      <th>39</th>\n",
       "      <td>2018-02-27</td>\n",
       "      <td>Major delay between 24TH and GLEN on SF line in SFO, MLBR, DALY and East Bay dirs due to equip prob.</td>\n",
       "      <td>2</td>\n",
       "    </tr>\n",
       "    <tr>\n",
       "      <th>40</th>\n",
       "      <td>2018-02-27</td>\n",
       "      <td>20 min delay between 24TH and GLEN on SF line in SFO, MLBR, DALY and East Bay dirs due to equip prob.</td>\n",
       "      <td>2</td>\n",
       "    </tr>\n",
       "    <tr>\n",
       "      <th>42</th>\n",
       "      <td>2018-02-27</td>\n",
       "      <td>10 min delay at WOAK in East Bay dir due to police activity.</td>\n",
       "      <td>2</td>\n",
       "    </tr>\n",
       "    <tr>\n",
       "      <th>44</th>\n",
       "      <td>2018-02-27</td>\n",
       "      <td>10 min delay at BAYF in WARM, FRMT, RICH and DALY dirs due to police activity.</td>\n",
       "      <td>2</td>\n",
       "    </tr>\n",
       "    <tr>\n",
       "      <th>47</th>\n",
       "      <td>2018-02-27</td>\n",
       "      <td>10 min delay between FTVL and LAKE in RICH and DALY dirs due to equip prob.</td>\n",
       "      <td>2</td>\n",
       "    </tr>\n",
       "  </tbody>\n",
       "</table>\n",
       "</div>"
      ],
      "text/plain": [
       "         Date  \\\n",
       "39 2018-02-27   \n",
       "40 2018-02-27   \n",
       "42 2018-02-27   \n",
       "44 2018-02-27   \n",
       "47 2018-02-27   \n",
       "\n",
       "                                                                                                   Message  \\\n",
       "39  Major delay between 24TH and GLEN on SF line in SFO, MLBR, DALY and East Bay dirs due to equip prob.     \n",
       "40  20 min delay between 24TH and GLEN on SF line in SFO, MLBR, DALY and East Bay dirs due to equip prob.    \n",
       "42  10 min delay at WOAK in East Bay dir due to police activity.                                             \n",
       "44  10 min delay at BAYF in WARM, FRMT, RICH and DALY dirs due to police activity.                           \n",
       "47  10 min delay between FTVL and LAKE in RICH and DALY dirs due to equip prob.                              \n",
       "\n",
       "    Month  \n",
       "39  2      \n",
       "40  2      \n",
       "42  2      \n",
       "44  2      \n",
       "47  2      "
      ]
     },
     "metadata": {},
     "output_type": "display_data"
    }
   ],
   "source": [
    "#Split the dataset to 3 years: 2018,2017,2016\n",
    "\n",
    "mask_2018 = (df5['Date'] >= '2018-1-1') & (df5['Date'] < '2018-2-28')\n",
    "mask_2017 = (df5['Date'] >= '2017-1-1') & (df5['Date'] < '2017-12-31')\n",
    "mask_2016 = (df5['Date'] >= '2016-3-1') & (df5['Date'] < '2016-12-31')\n",
    "df_2018=df5.loc[mask_2018]\n",
    "df_2017=df5.loc[mask_2017]\n",
    "df_2016=df5.loc[mask_2016]\n",
    "df_major_2018=df_major.loc[mask_2018]\n",
    "df_major_2017=df_major.loc[mask_2017]\n",
    "df_major_2016=df_major.loc[mask_2016]\n",
    "print(df_2018.Date.max())\n",
    "print(df_2018.Date.min())\n",
    "print(df_2017.Date.max())\n",
    "print(df_2017.Date.min())\n",
    "print(df_2016.Date.max())\n",
    "print(df_2016.Date.min())\n",
    "print(df_2016.shape)\n",
    "print(df_2017.shape)\n",
    "print(df_2018.shape)\n",
    "display(df_2016.head())\n",
    "display(df_2017.head())\n",
    "display(df_2018.head())\n"
   ]
  },
  {
   "cell_type": "code",
   "execution_count": 20,
   "metadata": {},
   "outputs": [
    {
     "data": {
      "text/html": [
       "<div>\n",
       "<style scoped>\n",
       "    .dataframe tbody tr th:only-of-type {\n",
       "        vertical-align: middle;\n",
       "    }\n",
       "\n",
       "    .dataframe tbody tr th {\n",
       "        vertical-align: top;\n",
       "    }\n",
       "\n",
       "    .dataframe thead th {\n",
       "        text-align: right;\n",
       "    }\n",
       "</style>\n",
       "<table border=\"1\" class=\"dataframe\">\n",
       "  <thead>\n",
       "    <tr style=\"text-align: right;\">\n",
       "      <th></th>\n",
       "      <th>Date</th>\n",
       "      <th>Message</th>\n",
       "    </tr>\n",
       "    <tr>\n",
       "      <th>Month</th>\n",
       "      <th></th>\n",
       "      <th></th>\n",
       "    </tr>\n",
       "  </thead>\n",
       "  <tbody>\n",
       "    <tr>\n",
       "      <th>1</th>\n",
       "      <td>65</td>\n",
       "      <td>65</td>\n",
       "    </tr>\n",
       "    <tr>\n",
       "      <th>2</th>\n",
       "      <td>47</td>\n",
       "      <td>47</td>\n",
       "    </tr>\n",
       "  </tbody>\n",
       "</table>\n",
       "</div>"
      ],
      "text/plain": [
       "       Date  Message\n",
       "Month               \n",
       "1      65    65     \n",
       "2      47    47     "
      ]
     },
     "metadata": {},
     "output_type": "display_data"
    },
    {
     "data": {
      "text/html": [
       "<div>\n",
       "<style scoped>\n",
       "    .dataframe tbody tr th:only-of-type {\n",
       "        vertical-align: middle;\n",
       "    }\n",
       "\n",
       "    .dataframe tbody tr th {\n",
       "        vertical-align: top;\n",
       "    }\n",
       "\n",
       "    .dataframe thead th {\n",
       "        text-align: right;\n",
       "    }\n",
       "</style>\n",
       "<table border=\"1\" class=\"dataframe\">\n",
       "  <thead>\n",
       "    <tr style=\"text-align: right;\">\n",
       "      <th></th>\n",
       "      <th>Date</th>\n",
       "      <th>Message</th>\n",
       "    </tr>\n",
       "    <tr>\n",
       "      <th>Month</th>\n",
       "      <th></th>\n",
       "      <th></th>\n",
       "    </tr>\n",
       "  </thead>\n",
       "  <tbody>\n",
       "    <tr>\n",
       "      <th>1</th>\n",
       "      <td>111</td>\n",
       "      <td>111</td>\n",
       "    </tr>\n",
       "    <tr>\n",
       "      <th>2</th>\n",
       "      <td>77</td>\n",
       "      <td>77</td>\n",
       "    </tr>\n",
       "    <tr>\n",
       "      <th>3</th>\n",
       "      <td>56</td>\n",
       "      <td>56</td>\n",
       "    </tr>\n",
       "    <tr>\n",
       "      <th>4</th>\n",
       "      <td>91</td>\n",
       "      <td>91</td>\n",
       "    </tr>\n",
       "    <tr>\n",
       "      <th>5</th>\n",
       "      <td>96</td>\n",
       "      <td>96</td>\n",
       "    </tr>\n",
       "  </tbody>\n",
       "</table>\n",
       "</div>"
      ],
      "text/plain": [
       "       Date  Message\n",
       "Month               \n",
       "1      111   111    \n",
       "2      77    77     \n",
       "3      56    56     \n",
       "4      91    91     \n",
       "5      96    96     "
      ]
     },
     "metadata": {},
     "output_type": "display_data"
    },
    {
     "data": {
      "text/html": [
       "<div>\n",
       "<style scoped>\n",
       "    .dataframe tbody tr th:only-of-type {\n",
       "        vertical-align: middle;\n",
       "    }\n",
       "\n",
       "    .dataframe tbody tr th {\n",
       "        vertical-align: top;\n",
       "    }\n",
       "\n",
       "    .dataframe thead th {\n",
       "        text-align: right;\n",
       "    }\n",
       "</style>\n",
       "<table border=\"1\" class=\"dataframe\">\n",
       "  <thead>\n",
       "    <tr style=\"text-align: right;\">\n",
       "      <th></th>\n",
       "      <th>Date</th>\n",
       "      <th>Message</th>\n",
       "    </tr>\n",
       "    <tr>\n",
       "      <th>Month</th>\n",
       "      <th></th>\n",
       "      <th></th>\n",
       "    </tr>\n",
       "  </thead>\n",
       "  <tbody>\n",
       "    <tr>\n",
       "      <th>3</th>\n",
       "      <td>74</td>\n",
       "      <td>74</td>\n",
       "    </tr>\n",
       "    <tr>\n",
       "      <th>4</th>\n",
       "      <td>42</td>\n",
       "      <td>42</td>\n",
       "    </tr>\n",
       "    <tr>\n",
       "      <th>5</th>\n",
       "      <td>31</td>\n",
       "      <td>31</td>\n",
       "    </tr>\n",
       "    <tr>\n",
       "      <th>6</th>\n",
       "      <td>53</td>\n",
       "      <td>53</td>\n",
       "    </tr>\n",
       "    <tr>\n",
       "      <th>7</th>\n",
       "      <td>51</td>\n",
       "      <td>51</td>\n",
       "    </tr>\n",
       "  </tbody>\n",
       "</table>\n",
       "</div>"
      ],
      "text/plain": [
       "       Date  Message\n",
       "Month               \n",
       "3      74    74     \n",
       "4      42    42     \n",
       "5      31    31     \n",
       "6      53    53     \n",
       "7      51    51     "
      ]
     },
     "metadata": {},
     "output_type": "display_data"
    }
   ],
   "source": [
    "#Group the dataframes by month.\n",
    "df_2018=df_2018.groupby(\"Month\").count()\n",
    "df_2017=df_2017.groupby(\"Month\").count()\n",
    "df_2016=df_2016.groupby(\"Month\").count()\n",
    "\n",
    "df_major_2018=df_major_2018.groupby(\"Month\").count()\n",
    "df_major_2017=df_major_2017.groupby(\"Month\").count()\n",
    "df_major_2016=df_major_2016.groupby(\"Month\").count()\n",
    "\n",
    "display(df_2018.head())\n",
    "display(df_2017.head())\n",
    "display(df_2016.head())"
   ]
  },
  {
   "cell_type": "code",
   "execution_count": 26,
   "metadata": {},
   "outputs": [
    {
     "data": {
      "image/png": "[encoded data removed]",
      "text/plain": [
       "<matplotlib.figure.Figure at 0x1a1adb3828>"
      ]
     },
     "metadata": {},
     "output_type": "display_data"
    }
   ],
   "source": [
    "sns.set_style(\"whitegrid\")\n",
    "plt.figure(figsize=(10,7))\n",
    "result = plt.plot(df_2018.index.values, df_2018[\"Date\"], label=\"2018\" )\n",
    "p2018=result[0]\n",
    "result = plt.plot(df_2017.index.values, df_2017[\"Date\"], label=\"2017\" )\n",
    "p2017=result[0]\n",
    "result = plt.plot(df_2016.index.values, df_2016[\"Date\"], label=\"2016\" )\n",
    "p2016=result[0]\n",
    "\n",
    "result = plt.plot(df_major_2018.index.values, df_major_2018[\"Date\"], \n",
    "                  linestyle=\"dashed\", label=\"2018 major\" )\n",
    "pm2018=result[0]\n",
    "result = plt.plot(df_major_2017.index.values, df_major_2017[\"Date\"],\n",
    "                  linestyle=\"dashed\", label=\"2017 major\" )\n",
    "pm2017=result[0]\n",
    "result = plt.plot(df_major_2016.index.values, df_major_2016[\"Date\"], \n",
    "                  linestyle=\"dashed\", label=\"2016 major\" )\n",
    "pm2016=result[0]\n",
    "\n",
    "\n",
    "plt.legend(handles=[p2018, p2017,p2016,pm2018,pm2017,pm2016], loc=\"best\")\n",
    "plt.title(\"BART delays by month\", size=30)\n",
    "plt.xlabel(\"Month\", size=20)\n",
    "plt.ylabel(\"Number of Delays\", size=20)\n",
    "plt.savefig(\"BARTdelay.png\")\n",
    "plt.show()\n",
    "\n",
    "# idf.index.get_level_values('A')"
   ]
  },
  {
   "cell_type": "code",
   "execution_count": 22,
   "metadata": {},
   "outputs": [
    {
     "data": {
      "image/png": "[encoded data removed]",
      "text/plain": [
       "<matplotlib.figure.Figure at 0x10b27a0b8>"
      ]
     },
     "metadata": {},
     "output_type": "display_data"
    }
   ],
   "source": [
    "sns.set_style(\"whitegrid\")\n",
    "plt.figure(figsize=(10,7))\n",
    "result = plt.plot(df_2018.index.values, df_2018[\"Date\"], label=\"2018\" )\n",
    "p2018=result[0]\n",
    "result = plt.plot(df_2017.index.values, df_2017[\"Date\"], label=\"2017\" )\n",
    "p2017=result[0]\n",
    "result = plt.plot(df_2016.index.values, df_2016[\"Date\"], label=\"2016\" )\n",
    "p2016=result[0]\n",
    "\n",
    "plt.legend(handles=[p2018, p2017,p2016], loc=\"best\")\n",
    "plt.title(\"BART delays by month\")\n",
    "plt.xlabel(\"Month\")\n",
    "plt.ylabel(\"Number of Delays\")\n",
    "plt.savefig(\"BARTdelayonly.png\")\n",
    "plt.show()"
   ]
  },
  {
   "cell_type": "code",
   "execution_count": 23,
   "metadata": {},
   "outputs": [
    {
     "name": "stdout",
     "output_type": "stream",
     "text": [
      "67.0\n",
      "7.0\n"
     ]
    }
   ],
   "source": [
    "#Average number of delays per month:\n",
    "print(avg_delay)\n",
    "#Average number of major delays per month:\n",
    "print(avg_mdelay)\n",
    "\n"
   ]
  },
  {
   "cell_type": "code",
   "execution_count": 24,
   "metadata": {},
   "outputs": [
    {
     "data": {
      "image/png": "[encoded data removed]",
      "text/plain": [
       "<matplotlib.figure.Figure at 0x10f068710>"
      ]
     },
     "metadata": {},
     "output_type": "display_data"
    }
   ],
   "source": [
    "sns.set_style(\"whitegrid\")\n",
    "plt.figure(figsize=(10,7))\n",
    "result = plt.plot(df_major_2018.index.values, df_major_2018[\"Date\"],\n",
    "                  linestyle=\"dashed\", label=\"2018 major\" )\n",
    "pm2018=result[0]\n",
    "result = plt.plot(df_major_2017.index.values, df_major_2017[\"Date\"],\n",
    "                  linestyle=\"dashed\", label=\"2017 major\" )\n",
    "pm2017=result[0]\n",
    "result = plt.plot(df_major_2016.index.values, df_major_2016[\"Date\"],\n",
    "                  linestyle=\"dashed\", label=\"2016 major\" )\n",
    "pm2016=result[0]\n",
    "\n",
    "plt.legend(handles=[pm2018,pm2017,pm2016], loc=\"best\")\n",
    "plt.title(\"BART major delays\")\n",
    "plt.xlabel(\"Month\")\n",
    "plt.ylabel(\"Number of Major Delays\")\n",
    "plt.savefig(\"BARTmajor_delay.png\")\n",
    "plt.show()"
   ]
  },
  {
   "cell_type": "code",
   "execution_count": null,
   "metadata": {},
   "outputs": [],
   "source": []
  }
 ],
 "metadata": {
  "kernelspec": {
   "display_name": "Python [PythonData]",
   "language": "python",
   "name": "pythondata"
  },
  "language_info": {
   "codemirror_mode": {
    "name": "ipython",
    "version": 3
   },
   "file_extension": ".py",
   "mimetype": "text/x-python",
   "name": "python",
   "nbconvert_exporter": "python",
   "pygments_lexer": "ipython3",
   "version": "3.6.4"
  }
 },
 "nbformat": 4,
 "nbformat_minor": 2
}
