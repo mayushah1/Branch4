{
 "cells": [
  {
   "cell_type": "code",
   "execution_count": 2,
   "metadata": {},
   "outputs": [],
   "source": [
    "import os\n",
    "import pandas as pd\n",
    "import numpy as np\n",
    "import csv"
   ]
  },
  {
   "cell_type": "code",
   "execution_count": 3,
   "metadata": {},
   "outputs": [
    {
     "data": {
      "text/plain": [
       "'..\\\\03_Data\\\\station_info.csv'"
      ]
     },
     "execution_count": 3,
     "metadata": {},
     "output_type": "execute_result"
    }
   ],
   "source": [
    "csvpath = os.path.join('..','03_Data','station_info.csv')\n",
    "csvpath"
   ]
  },
  {
   "cell_type": "code",
   "execution_count": 15,
   "metadata": {},
   "outputs": [
    {
     "name": "stdout",
     "output_type": "stream",
     "text": [
      "<_csv.reader object at 0x000000000633FEE8>\n",
      "['Abbreviation', 'Description', 'Location', 'Name']\n",
      "['12TH', \"1245 Broadway, Oakland CA 94612<br />12th St. Oakland City Center Station is in the heart of Downtown Oakland, near historic Old Oakland and Oakland's Chinatown.\", '-122.271450,37.803768,0', '12th St. Oakland City Center (12TH)']\n",
      "['16TH', '2000 Mission Street, San Francisco CA 94110<br />\"The Mission\" refers to the San Francisco de Asis Mission, also known as Mission Dolores, which was founded 1776. Today the neighborhood is host to an eclectic mix of restaurants, markets, performance spaces, shops, and nightspots.', '-122.419694,37.765062,0', '16th St. Mission (16TH)']\n",
      "['19TH', '1900 Broadway, Oakland CA 94612<br />19th Street Station is in the heart of Uptown Oakland near the historic Paramount Theater on Broadway.', '-122.268602,37.808350,0', '19th St. Oakland (19TH)']\n",
      "['24TH', '2800 Mission Street, San Francisco CA 94110<br />\"The Mission\" refers to the San Francisco de Asis Mission, also known as Mission Dolores, which was founded 1776. Today the neighborhood is host to an eclectic mix of restaurants, markets, performance spaces, shops, and nightspots.', '-122.418143,37.752470,0', '24th St. Mission (24TH)']\n",
      "['ASHB', '3100 Adeline Street, Berkeley CA 94703<br />Ashby Station is located on Ashby Avenue and Adeline Street in the southern part of Berkeley. On weekends, the City of Berkeley sponsors a popular flea market in the parking lot.', '-122.270062,37.852803,0', 'Ashby (ASHB)']\n",
      "['BALB', \"401 Geneva Avenue, San Francisco CA 94112<br />Balboa Park is the name of both a San Francisco neighborhood and a public park between Mission Street and I-280 north of Geneva Avenue. The park features a public swimming pool, children's playground, baseball diamonds and tennis courts.\", '-122.447506,37.721585,0', 'Balboa Park (BALB)']\n",
      "['BAYF', '15242 Hesperian Blvd., San Leandro CA 94578<br />Bay Fair Station provides easy access to Bayfair Center in San Leandro, one of the first shopping centers built in the East Bay.', '-122.126514,37.696924,0', 'Bay Fair (BAYF)']\n",
      "['CAST', '3301 Norbridge Dr., Castro Valley CA 94546<br />Once known for its chicken ranches, Castro Valley was named after Don Guillermo Castro, a local rancher and magistrate in the mid-1800s.', '-122.075602,37.690746,0', 'Castro Valley (CAST)']\n",
      "['CIVC', '1150 Market Street, San Francisco CA 94102<br />Civic Center/UN Plaza Station is nearby some notable San Francisco destinations including including City Hall, War Memorial Opera House, Asian Art Museum, Louise M. Davies Symphony Hall, and the Main Branch of the San Francisco Public Library.', '-122.414123,37.779732,0', 'Civic Center/UN Plaza (CIVC)']\n",
      "['COLS', \"7200 San Leandro St., Oakland CA 94621<br />Welcome to Coliseum<br />Coliseum is the transfer Station that connects BART to the Oakland Int'l Airport Station (OAKL). The station is also connected by a pedestrian bridge to the O.co Coliseum and Oracle Arena.\", '-122.196869,37.753661,0', 'Coliseum/Oakland Airport (COLS)']\n",
      "['COLM', '365 D Street, Colma CA 94014<br />The Town of Colma is a diverse community on the San Francisco peninsula that maintains that \"small town\" feel despite being so close to major cities. The Colma BART Station is close to residential neighborhoods and shopping areas. Colma is perhaps best known for its 17 cemeteries, which comprise approximately 73% of the town\\'s land area. The town incorporated in 1924 primarily to protect this land use. Colma\\'s cemeteries represent numerous religious beliefs and nationalities, and include structures and districts which are historically significant on local, state and national levels.', '-122.466233,37.684638,0', 'Colma (COLM)']\n",
      "['CONC', '1451 Oakland Avenue, Concord CA 94520<br />Concord is the largest city in Contra Costa County. The Concord BART Station was the \"end of the line\" until 1995 when the line was extended to Pittsburg/Bay Point.', '-122.029095,37.973737,0', 'Concord (CONC)']\n",
      "['DALY', '500 John Daly Blvd., Daly City CA 94014<br />Daly City, located at the northernmost edge of San Mateo County, is often called the \"Gateway to the Peninsula.\"', '-122.469081,37.706121,0', 'Daly City (DALY)']\n",
      "['DBRK', '2160 Shattuck Avenue, Berkeley CA 94704<br />The Downtown Berkeley BART Station is located on Shattuck Avenue between Allston Way and Addison Street. It is conveniently located close to the University of California campus and to many shops, restaurants, theaters and other attractions, and has valet bike parking.', '-122.268133,37.870104,0', 'Downtown Berkeley (DBRK)']\n",
      "['DELN', '6400 Cutting Blvd., El Cerrito CA 94530<br />Sometimes called simply \"del Norte,\" as the name suggests this station serves the northern part of the City of El Cerrito.', '-122.316794,37.925086,0', 'El Cerrito del Norte (DELN)']\n",
      "['DUBL', '5801 Owens Dr., Pleasanton CA 94588<br />This unique station straddles the border of Dublin and Pleasanton on Interstate 580. The station features a number of local and regional bus connections.', '-121.899179,37.701687,0', 'Dublin/Pleasanton (DUBL)']\n",
      "['EMBR', \"298 Market Street, San Francisco CA 94111<br />Located in San Francisco's Financial District at the foot of Market Street, Embarcadero Station is close to the Ferry Building, Embarcadero Center, Transbay Terminal and the California Street cable car.\", '-122.397020,37.792874,0', 'Embarcadero (EMBR)']\n",
      "['FRMT', '2000 BART Way, Fremont CA 94536<br />Fremont Station is an important regional transfer point for service to AC Transit and Santa Clara Transportation Authority (VTA). The city, and the station, are named for American explorer John Charles FrÃ©mont.', '-121.976608,37.557465,0', 'Fremont (FRMT)']\n",
      "['FTVL', '3401 East 12th Street, Oakland CA 94601<br />Originally called \"Fruit Vale,\" the neighborhood around Fruitvale BART Station was mostly apricot and cherry orchards in the late 1800s. Today, it\\'s a vibrant neighborhood and one of Oakland\\'s main commercial areas.', '-122.224175,37.774836,0', 'Fruitvale (FTVL)']\n",
      "['GLEN', '2901 Diamond Street, San Francisco CA 94131<br />The Glen Park neighborhood in San Francisco is nestled in a small valley below Diamond Heights, and BART is at the center of the neighborhood on the corner of Diamond and Bosworth Streets.', '-122.433817,37.733064,0', 'Glen Park (GLEN)']\n",
      "['HAYW', '699 \\'B\\' Street, Hayward CA 94541<br />The City of Hayward is known as the \"Heart of the Bay\" for its central and convenient location in Alameda County. Hayward BART Station is near a pedestrian-friendly downtown with a mix of housing, shops, offices and restaurants.', '-122.087018,37.669723,0', 'Hayward (HAYW)']\n",
      "['LAFY', '3601 Deer Hill Road, Lafayette CA 94549<br />Centrally located in the East Bay hills, Lafayette exudes a quiet rural atmosphere and features a distinctive downtown.', '-122.124630,37.893176,0', 'Lafayette (LAFY)']\n",
      "['LAKE', '800 Madison Street, Oakland CA 94607<br />Lake Merritt Station is ideally located near near Oakland Chinatown, Laney College and the Oakland Museum.', '-122.265180,37.797027,0', 'Lake Merritt (LAKE)']\n",
      "['MCAR', \"555 40th Street, Oakland CA 94609<br />MacArthur Station is a major BART transfer point near the commercial heart of Temescal, one of north Oakland's oldest neighborhoods.\", '-122.267040,37.829065,0', 'MacArthur (MCAR)']\n",
      "['MLBR', '200 North Rollins Road, Millbrae CA 94030<br />Situated on an estate formerly owned by Darius Ogden Mills, this city\\'s name derives from \"Mills\" and the Scottish word \"brae\" or \"rolling hills.\" Today, the Millbrae BART station is the largest intermodal terminal west of the Mississippi, featuring a cross-platform connection to Caltrain.', '-122.386702,37.600271,0', 'Millbrae (MLBR)']\n",
      "['MONT', \"598 Market Street, San Francisco CA 94104<br />Located in the heart of San Francisco's Financial District on Market Street, Montgomery Station features excellent access to San Francisco Muni and destinations throughout the city.\", '-122.401066,37.789405,0', 'Montgomery St. (MONT)']\n",
      "['NBRK', '1750 Sacramento Street, Berkeley CA 94702<br />North Berkeley Station features a unique circular building and offers easy access to the Ohlone Greenway, an East Bay pedestrian and bicycle path.', '-122.283440,37.873967,0', 'North Berkeley (NBRK)']\n",
      "['NCON', '3700 Port Chicago Highway, Concord CA 94520<br />The North Concord/Martinez station opened December 16, 1995 and briefly served as \"end of the line\" until BART completed the Pittsburg/Bay Point extension over Willow Pass in 1996.', '-122.024653,38.003193,0', 'North Concord/Martinez (NCON)']\n",
      "['OAKL', '1 Airport Drive, Oakland CA 94621<br />Located at the Oakland International Airport, the Oakland Airport station has frequent service to the Coliseum station.', '-122.212191,37.713238,0', 'Oakland Airport (OAKL)']\n",
      "['ORIN', '11 Camino Pablo, Orinda CA 94563<br />Originally a rural area known for ranching and summer cabins, today Orinda is primarily a residential community with a rich history that is depicted on a mural and map in the station.', '-122.183791,37.878361,0', 'Orinda (ORIN)']\n",
      "['PHIL', \"1365 Treat Blvd., Walnut Creek CA 94597<br />BART, buses, Highway 680 and the Iron Horse pedestrian and bicycle trail all converge to make this one of BART's most easily accessed stations.\", '-122.056012,37.928468,0', 'Pleasant Hill/Contra Costa Centre (PHIL)']\n",
      "['PITT', '1700 West Leland Road, Pittsburg CA 94565<br />Pittsburg/Bay Point is a terminal station on the yellow line serving northern and eastern Contra Costa County.', '-121.945154,38.018914,0', 'Pittsburg/Bay Point (PITT)']\n",
      "['PLZA', '6699 Fairmount Avenue, El Cerrito CA 94530<br />El Cerrito Plaza is one of two BART stations in the City of El Cerrito. It serves southern El Cerrito, northern Albany, Kensington and nearby areas of Berkeley and Richmond.', '-122.298904,37.902632,0', 'El Cerrito Plaza (PLZA)']\n",
      "['POWL', \"899 Market Street, San Francisco CA 94102<br />Located at Powell and Market Streets, this station is centrally located near San Francisco's most popular attractions including the cable cars, Union Square, Yerba Buena Gardens, the Moscone Convention Center and the City's Theatre District.\", '-122.407974,37.784471,0', 'Powell St. (POWL)']\n",
      "['RICH', '1700 Nevin Avenue, Richmond CA 94801<br />Three major railroad tracks, including BART\\'s, help to outline the \"Iron Triangle\" in Richmond: a largely residential area that also includes the downtown Richmond business district along Macdonald Avenue.', '-122.353099,37.936853,0', 'Richmond (RICH)']\n",
      "['ROCK', '5660 College Avenue, Oakland CA 94618<br />Named for local rock outcroppings formed by the Hayward Fault, the Rockridge neighborhood is a vibrant residential neighborhood, retail and commercial district in Oakland.', '-122.251371,37.844702,0', 'Rockridge (ROCK)']\n",
      "['SANL', \"1401 San Leandro Blvd., San Leandro CA 94577<br />Agriculture was an important part of San Leandro's history and cherries were one of the City's most well-known crops. The city's first Cherry Festival was held in 1909 and the tradition still continues today.\", '-122.160844,37.721947,0', 'San Leandro (SANL)']\n",
      "['SBRN', \"1151 Huntington Avenue, San Bruno CA 94066<br />San Bruno Station is next to the city's Tanforan shopping mall and business area. Before becoming a mall, Tanforan was a racetrack, airfield, military center and, during World War II, a Japanese American internment center.\", '-122.416287,37.637761,0', 'San Bruno (SBRN)']\n",
      "['SFIA', \"International Terminal, Level 3, San Francisco Int'l Airport CA 94128<br />This station is located in the International Terminal at SFO. It's a short walk to United Airlines in Terminal 3, but all domestic terminals (1, 2 &amp; 3) are one to three minutes away on AirTrain.\", '-122.392409,37.615966,0', \"San Francisco Int'l Airport (SFIA)\"]\n",
      "['SHAY', \"28601 Dixon Street, Hayward CA 94544<br />Hayward, originally known as 'Haywards', is named for William Hayward, a New England shoe factory worker who came to California during the Gold Rush.\", '-122.057189,37.634375,0', 'South Hayward (SHAY)']\n",
      "['SSAN', '1333 Mission Road, South San Francisco CA 94080<br />Emerging from a portion of old Rancho Buri Buri, South San Francisco occupies the basin and portions of the sides of a broad valley formed by the San Bruno Mountains on the north and the Coast Range on the west.', '-122.443960,37.664245,0', 'South San Francisco (SSAN)']\n",
      "['UCTY', '10 Union Square, Union City CA 94587<br />Incorporated in 1959, Union City combined the communities of Alvarado, Decoto, and New Haven. Alvarado was the original county seat of Alameda County, and the site of the first county courthouse is a California Historical Landmark.', '-122.017388,37.590630,0', 'Union City (UCTY)']\n",
      "['WARM', '45193 Warm Springs Blvd, Fremont, CA 94539<br />Warm Springs/South Fremont Station is currently the most southern station and is the first station to open on the new San Jose extension.', '-121.939313,37.502171,0', 'Warm Springs/South Fremont (WARM)']\n",
      "['WCRK', '200 Ygnacio Valley Road, Walnut Creek CA 94596<br />The Walnut Creek BART Station is a key piece of infrastructure for a thriving community that can also be characterized as the business and arts center for Contra Costa County.', '-122.067527,37.905522,0', 'Walnut Creek (WCRK)']\n",
      "['WDUB', \"6501 Golden Gate Drive, Dublin CA 94568<br />This station straddles the border of Dublin and Pleasanton on Interstate 580 and is near the Stoneridge Shopping Center. It is BART's 44th station.\", '-121.928240,37.699756,0', 'West Dublin/Pleasanton (WDUB)']\n",
      "['WOAK', '1451 7th Street, Oakland CA 94607<br />The West Oakland BART Station is located in the West Oakland residential and industrial community. The station serves both local residents and riders from throughout the region with its excellent freeway access and short ride to downtown San Francisco.', '-122.295140,37.804872,0', 'West Oakland (WOAK)']\n"
     ]
    }
   ],
   "source": [
    "with open(csvpath, newline='') as csvfile:\n",
    "    csvreader  = csv.reader(csvfile, delimiter=',')\n",
    "    print(csvreader)\n",
    "    \n",
    "    for row in csvreader:\n",
    "        print(row)"
   ]
  },
  {
   "cell_type": "code",
   "execution_count": 4,
   "metadata": {},
   "outputs": [
    {
     "data": {
      "text/html": [
       "<div>\n",
       "<style scoped>\n",
       "    .dataframe tbody tr th:only-of-type {\n",
       "        vertical-align: middle;\n",
       "    }\n",
       "\n",
       "    .dataframe tbody tr th {\n",
       "        vertical-align: top;\n",
       "    }\n",
       "\n",
       "    .dataframe thead th {\n",
       "        text-align: right;\n",
       "    }\n",
       "</style>\n",
       "<table border=\"1\" class=\"dataframe\">\n",
       "  <thead>\n",
       "    <tr style=\"text-align: right;\">\n",
       "      <th></th>\n",
       "      <th>Abbreviation</th>\n",
       "      <th>Description</th>\n",
       "      <th>Location</th>\n",
       "      <th>Name</th>\n",
       "    </tr>\n",
       "  </thead>\n",
       "  <tbody>\n",
       "    <tr>\n",
       "      <th>0</th>\n",
       "      <td>12TH</td>\n",
       "      <td>1245 Broadway, Oakland CA 94612&lt;br /&gt;12th St. ...</td>\n",
       "      <td>-122.271450,37.803768,0</td>\n",
       "      <td>12th St. Oakland City Center (12TH)</td>\n",
       "    </tr>\n",
       "  </tbody>\n",
       "</table>\n",
       "</div>"
      ],
      "text/plain": [
       "  Abbreviation                                        Description  \\\n",
       "0         12TH  1245 Broadway, Oakland CA 94612<br />12th St. ...   \n",
       "\n",
       "                  Location                                 Name  \n",
       "0  -122.271450,37.803768,0  12th St. Oakland City Center (12TH)  "
      ]
     },
     "execution_count": 4,
     "metadata": {},
     "output_type": "execute_result"
    }
   ],
   "source": [
    "bart_stations = pd.read_csv(csvpath, encoding = \"utf-8\")\n",
    "bart_stations.head(1)"
   ]
  },
  {
   "cell_type": "code",
   "execution_count": 5,
   "metadata": {},
   "outputs": [
    {
     "data": {
      "text/plain": [
       "46"
      ]
     },
     "execution_count": 5,
     "metadata": {},
     "output_type": "execute_result"
    }
   ],
   "source": [
    "len(bart_stations)"
   ]
  },
  {
   "cell_type": "code",
   "execution_count": null,
   "metadata": {},
   "outputs": [],
   "source": []
  }
 ],
 "metadata": {
  "kernelspec": {
   "display_name": "Python [conda env:pythondata2]",
   "language": "python",
   "name": "pythondata2"
  },
  "language_info": {
   "codemirror_mode": {
    "name": "ipython",
    "version": 3
   },
   "file_extension": ".py",
   "mimetype": "text/x-python",
   "name": "python",
   "nbconvert_exporter": "python",
   "pygments_lexer": "ipython3",
   "version": "3.6.4"
  }
 },
 "nbformat": 4,
 "nbformat_minor": 2
}
