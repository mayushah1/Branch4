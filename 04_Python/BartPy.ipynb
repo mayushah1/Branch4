{
 "cells": [
  {
   "cell_type": "code",
   "execution_count": 1,
   "metadata": {},
   "outputs": [],
   "source": [
    "import datetime\n",
    "import calendar\n",
    "import os\n",
    "import matplotlib.pyplot as plt\n",
    "import pandas as pd\n",
    "import numpy as np\n",
    "import seaborn as sns"
   ]
  },
  {
   "cell_type": "code",
   "execution_count": 2,
   "metadata": {},
   "outputs": [],
   "source": [
    "# Read combined csv file\n",
    "csvpath = os.path.join( '..','03_Data', 'date-hour-soo-dest-2016.csv')\n",
    "csvpath1 = os.path.join( '..','03_Data', 'date-hour-soo-dest-2017.csv')\n",
    "first_df = pd.read_csv(csvpath)\n",
    "second_df = pd.read_csv(csvpath1)"
   ]
  },
  {
   "cell_type": "code",
   "execution_count": 3,
   "metadata": {},
   "outputs": [
    {
     "data": {
      "text/html": [
       "<div>\n",
       "<style scoped>\n",
       "    .dataframe tbody tr th:only-of-type {\n",
       "        vertical-align: middle;\n",
       "    }\n",
       "\n",
       "    .dataframe tbody tr th {\n",
       "        vertical-align: top;\n",
       "    }\n",
       "\n",
       "    .dataframe thead th {\n",
       "        text-align: right;\n",
       "    }\n",
       "</style>\n",
       "<table border=\"1\" class=\"dataframe\">\n",
       "  <thead>\n",
       "    <tr style=\"text-align: right;\">\n",
       "      <th></th>\n",
       "      <th>Origin</th>\n",
       "      <th>Destination</th>\n",
       "      <th>Throughput</th>\n",
       "      <th>DateTime</th>\n",
       "    </tr>\n",
       "  </thead>\n",
       "  <tbody>\n",
       "    <tr>\n",
       "      <th>0</th>\n",
       "      <td>12TH</td>\n",
       "      <td>12TH</td>\n",
       "      <td>1</td>\n",
       "      <td>2016-01-01 00:00:00</td>\n",
       "    </tr>\n",
       "    <tr>\n",
       "      <th>1</th>\n",
       "      <td>12TH</td>\n",
       "      <td>16TH</td>\n",
       "      <td>1</td>\n",
       "      <td>2016-01-01 00:00:00</td>\n",
       "    </tr>\n",
       "    <tr>\n",
       "      <th>2</th>\n",
       "      <td>12TH</td>\n",
       "      <td>24TH</td>\n",
       "      <td>4</td>\n",
       "      <td>2016-01-01 00:00:00</td>\n",
       "    </tr>\n",
       "    <tr>\n",
       "      <th>3</th>\n",
       "      <td>12TH</td>\n",
       "      <td>ASHB</td>\n",
       "      <td>4</td>\n",
       "      <td>2016-01-01 00:00:00</td>\n",
       "    </tr>\n",
       "    <tr>\n",
       "      <th>4</th>\n",
       "      <td>12TH</td>\n",
       "      <td>BALB</td>\n",
       "      <td>2</td>\n",
       "      <td>2016-01-01 00:00:00</td>\n",
       "    </tr>\n",
       "  </tbody>\n",
       "</table>\n",
       "</div>"
      ],
      "text/plain": [
       "  Origin Destination  Throughput             DateTime\n",
       "0   12TH        12TH           1  2016-01-01 00:00:00\n",
       "1   12TH        16TH           1  2016-01-01 00:00:00\n",
       "2   12TH        24TH           4  2016-01-01 00:00:00\n",
       "3   12TH        ASHB           4  2016-01-01 00:00:00\n",
       "4   12TH        BALB           2  2016-01-01 00:00:00"
      ]
     },
     "execution_count": 3,
     "metadata": {},
     "output_type": "execute_result"
    }
   ],
   "source": [
    "first_df.head()"
   ]
  },
  {
   "cell_type": "code",
   "execution_count": 4,
   "metadata": {},
   "outputs": [
    {
     "data": {
      "text/html": [
       "<div>\n",
       "<style scoped>\n",
       "    .dataframe tbody tr th:only-of-type {\n",
       "        vertical-align: middle;\n",
       "    }\n",
       "\n",
       "    .dataframe tbody tr th {\n",
       "        vertical-align: top;\n",
       "    }\n",
       "\n",
       "    .dataframe thead th {\n",
       "        text-align: right;\n",
       "    }\n",
       "</style>\n",
       "<table border=\"1\" class=\"dataframe\">\n",
       "  <thead>\n",
       "    <tr style=\"text-align: right;\">\n",
       "      <th></th>\n",
       "      <th>Origin</th>\n",
       "      <th>Destination</th>\n",
       "      <th>Throughput</th>\n",
       "      <th>DateTime</th>\n",
       "    </tr>\n",
       "  </thead>\n",
       "  <tbody>\n",
       "    <tr>\n",
       "      <th>0</th>\n",
       "      <td>12TH</td>\n",
       "      <td>19TH</td>\n",
       "      <td>1</td>\n",
       "      <td>2017-01-01 00:00:00</td>\n",
       "    </tr>\n",
       "    <tr>\n",
       "      <th>1</th>\n",
       "      <td>12TH</td>\n",
       "      <td>24TH</td>\n",
       "      <td>2</td>\n",
       "      <td>2017-01-01 00:00:00</td>\n",
       "    </tr>\n",
       "    <tr>\n",
       "      <th>2</th>\n",
       "      <td>12TH</td>\n",
       "      <td>BAYF</td>\n",
       "      <td>1</td>\n",
       "      <td>2017-01-01 00:00:00</td>\n",
       "    </tr>\n",
       "    <tr>\n",
       "      <th>3</th>\n",
       "      <td>12TH</td>\n",
       "      <td>CIVC</td>\n",
       "      <td>5</td>\n",
       "      <td>2017-01-01 00:00:00</td>\n",
       "    </tr>\n",
       "    <tr>\n",
       "      <th>4</th>\n",
       "      <td>12TH</td>\n",
       "      <td>COLS</td>\n",
       "      <td>2</td>\n",
       "      <td>2017-01-01 00:00:00</td>\n",
       "    </tr>\n",
       "  </tbody>\n",
       "</table>\n",
       "</div>"
      ],
      "text/plain": [
       "  Origin Destination  Throughput             DateTime\n",
       "0   12TH        19TH           1  2017-01-01 00:00:00\n",
       "1   12TH        24TH           2  2017-01-01 00:00:00\n",
       "2   12TH        BAYF           1  2017-01-01 00:00:00\n",
       "3   12TH        CIVC           5  2017-01-01 00:00:00\n",
       "4   12TH        COLS           2  2017-01-01 00:00:00"
      ]
     },
     "execution_count": 4,
     "metadata": {},
     "output_type": "execute_result"
    }
   ],
   "source": [
    "second_df.head()"
   ]
  },
  {
   "cell_type": "code",
   "execution_count": 5,
   "metadata": {},
   "outputs": [],
   "source": [
    "#Add Day of the week\n",
    "first_df['Day'] = pd.to_datetime(first_df['DateTime']).dt.weekday_name"
   ]
  },
  {
   "cell_type": "code",
   "execution_count": 6,
   "metadata": {},
   "outputs": [],
   "source": [
    "#Add Month as separate column\n",
    "first_df['Month'] = pd.to_datetime(first_df['DateTime']).dt.strftime('%b')"
   ]
  },
  {
   "cell_type": "code",
   "execution_count": 7,
   "metadata": {},
   "outputs": [],
   "source": [
    "#Add Year as separate column\n",
    "first_df['Year'] = pd.to_datetime(first_df['DateTime']).dt.year"
   ]
  },
  {
   "cell_type": "code",
   "execution_count": 8,
   "metadata": {},
   "outputs": [
    {
     "data": {
      "text/html": [
       "<div>\n",
       "<style scoped>\n",
       "    .dataframe tbody tr th:only-of-type {\n",
       "        vertical-align: middle;\n",
       "    }\n",
       "\n",
       "    .dataframe tbody tr th {\n",
       "        vertical-align: top;\n",
       "    }\n",
       "\n",
       "    .dataframe thead th {\n",
       "        text-align: right;\n",
       "    }\n",
       "</style>\n",
       "<table border=\"1\" class=\"dataframe\">\n",
       "  <thead>\n",
       "    <tr style=\"text-align: right;\">\n",
       "      <th></th>\n",
       "      <th>Origin</th>\n",
       "      <th>Destination</th>\n",
       "      <th>Throughput</th>\n",
       "      <th>DateTime</th>\n",
       "      <th>Day</th>\n",
       "      <th>Month</th>\n",
       "      <th>Year</th>\n",
       "    </tr>\n",
       "  </thead>\n",
       "  <tbody>\n",
       "    <tr>\n",
       "      <th>0</th>\n",
       "      <td>12TH</td>\n",
       "      <td>12TH</td>\n",
       "      <td>1</td>\n",
       "      <td>2016-01-01 00:00:00</td>\n",
       "      <td>Friday</td>\n",
       "      <td>Jan</td>\n",
       "      <td>2016</td>\n",
       "    </tr>\n",
       "    <tr>\n",
       "      <th>1</th>\n",
       "      <td>12TH</td>\n",
       "      <td>16TH</td>\n",
       "      <td>1</td>\n",
       "      <td>2016-01-01 00:00:00</td>\n",
       "      <td>Friday</td>\n",
       "      <td>Jan</td>\n",
       "      <td>2016</td>\n",
       "    </tr>\n",
       "    <tr>\n",
       "      <th>2</th>\n",
       "      <td>12TH</td>\n",
       "      <td>24TH</td>\n",
       "      <td>4</td>\n",
       "      <td>2016-01-01 00:00:00</td>\n",
       "      <td>Friday</td>\n",
       "      <td>Jan</td>\n",
       "      <td>2016</td>\n",
       "    </tr>\n",
       "    <tr>\n",
       "      <th>3</th>\n",
       "      <td>12TH</td>\n",
       "      <td>ASHB</td>\n",
       "      <td>4</td>\n",
       "      <td>2016-01-01 00:00:00</td>\n",
       "      <td>Friday</td>\n",
       "      <td>Jan</td>\n",
       "      <td>2016</td>\n",
       "    </tr>\n",
       "    <tr>\n",
       "      <th>4</th>\n",
       "      <td>12TH</td>\n",
       "      <td>BALB</td>\n",
       "      <td>2</td>\n",
       "      <td>2016-01-01 00:00:00</td>\n",
       "      <td>Friday</td>\n",
       "      <td>Jan</td>\n",
       "      <td>2016</td>\n",
       "    </tr>\n",
       "  </tbody>\n",
       "</table>\n",
       "</div>"
      ],
      "text/plain": [
       "  Origin Destination  Throughput             DateTime     Day Month  Year\n",
       "0   12TH        12TH           1  2016-01-01 00:00:00  Friday   Jan  2016\n",
       "1   12TH        16TH           1  2016-01-01 00:00:00  Friday   Jan  2016\n",
       "2   12TH        24TH           4  2016-01-01 00:00:00  Friday   Jan  2016\n",
       "3   12TH        ASHB           4  2016-01-01 00:00:00  Friday   Jan  2016\n",
       "4   12TH        BALB           2  2016-01-01 00:00:00  Friday   Jan  2016"
      ]
     },
     "execution_count": 8,
     "metadata": {},
     "output_type": "execute_result"
    }
   ],
   "source": [
    "first_df.head()"
   ]
  },
  {
   "cell_type": "code",
   "execution_count": 9,
   "metadata": {},
   "outputs": [],
   "source": [
    "#Add Day of the week\n",
    "second_df['Day'] = pd.to_datetime(second_df['DateTime']).dt.weekday_name"
   ]
  },
  {
   "cell_type": "code",
   "execution_count": 10,
   "metadata": {},
   "outputs": [],
   "source": [
    "#Add Month as separate column\n",
    "second_df['Month'] = pd.to_datetime(second_df['DateTime']).dt.strftime('%b')"
   ]
  },
  {
   "cell_type": "code",
   "execution_count": 11,
   "metadata": {},
   "outputs": [],
   "source": [
    "#Add Year as separate column\n",
    "second_df['Year'] = pd.to_datetime(second_df['DateTime']).dt.year"
   ]
  },
  {
   "cell_type": "code",
   "execution_count": 12,
   "metadata": {},
   "outputs": [
    {
     "data": {
      "text/html": [
       "<div>\n",
       "<style scoped>\n",
       "    .dataframe tbody tr th:only-of-type {\n",
       "        vertical-align: middle;\n",
       "    }\n",
       "\n",
       "    .dataframe tbody tr th {\n",
       "        vertical-align: top;\n",
       "    }\n",
       "\n",
       "    .dataframe thead th {\n",
       "        text-align: right;\n",
       "    }\n",
       "</style>\n",
       "<table border=\"1\" class=\"dataframe\">\n",
       "  <thead>\n",
       "    <tr style=\"text-align: right;\">\n",
       "      <th></th>\n",
       "      <th>Origin</th>\n",
       "      <th>Destination</th>\n",
       "      <th>Throughput</th>\n",
       "      <th>DateTime</th>\n",
       "      <th>Day</th>\n",
       "      <th>Month</th>\n",
       "      <th>Year</th>\n",
       "    </tr>\n",
       "  </thead>\n",
       "  <tbody>\n",
       "    <tr>\n",
       "      <th>0</th>\n",
       "      <td>12TH</td>\n",
       "      <td>19TH</td>\n",
       "      <td>1</td>\n",
       "      <td>2017-01-01 00:00:00</td>\n",
       "      <td>Sunday</td>\n",
       "      <td>Jan</td>\n",
       "      <td>2017</td>\n",
       "    </tr>\n",
       "    <tr>\n",
       "      <th>1</th>\n",
       "      <td>12TH</td>\n",
       "      <td>24TH</td>\n",
       "      <td>2</td>\n",
       "      <td>2017-01-01 00:00:00</td>\n",
       "      <td>Sunday</td>\n",
       "      <td>Jan</td>\n",
       "      <td>2017</td>\n",
       "    </tr>\n",
       "    <tr>\n",
       "      <th>2</th>\n",
       "      <td>12TH</td>\n",
       "      <td>BAYF</td>\n",
       "      <td>1</td>\n",
       "      <td>2017-01-01 00:00:00</td>\n",
       "      <td>Sunday</td>\n",
       "      <td>Jan</td>\n",
       "      <td>2017</td>\n",
       "    </tr>\n",
       "    <tr>\n",
       "      <th>3</th>\n",
       "      <td>12TH</td>\n",
       "      <td>CIVC</td>\n",
       "      <td>5</td>\n",
       "      <td>2017-01-01 00:00:00</td>\n",
       "      <td>Sunday</td>\n",
       "      <td>Jan</td>\n",
       "      <td>2017</td>\n",
       "    </tr>\n",
       "    <tr>\n",
       "      <th>4</th>\n",
       "      <td>12TH</td>\n",
       "      <td>COLS</td>\n",
       "      <td>2</td>\n",
       "      <td>2017-01-01 00:00:00</td>\n",
       "      <td>Sunday</td>\n",
       "      <td>Jan</td>\n",
       "      <td>2017</td>\n",
       "    </tr>\n",
       "  </tbody>\n",
       "</table>\n",
       "</div>"
      ],
      "text/plain": [
       "  Origin Destination  Throughput             DateTime     Day Month  Year\n",
       "0   12TH        19TH           1  2017-01-01 00:00:00  Sunday   Jan  2017\n",
       "1   12TH        24TH           2  2017-01-01 00:00:00  Sunday   Jan  2017\n",
       "2   12TH        BAYF           1  2017-01-01 00:00:00  Sunday   Jan  2017\n",
       "3   12TH        CIVC           5  2017-01-01 00:00:00  Sunday   Jan  2017\n",
       "4   12TH        COLS           2  2017-01-01 00:00:00  Sunday   Jan  2017"
      ]
     },
     "execution_count": 12,
     "metadata": {},
     "output_type": "execute_result"
    }
   ],
   "source": [
    "second_df.head()"
   ]
  },
  {
   "cell_type": "code",
   "execution_count": 13,
   "metadata": {},
   "outputs": [],
   "source": [
    "#pivot 2016 data for total passengers by origin station\n",
    "pivot_first_origin = first_df.pivot_table(index=[\"Origin\"], values=[\"Throughput\"],aggfunc=np.sum).reset_index()"
   ]
  },
  {
   "cell_type": "code",
   "execution_count": 14,
   "metadata": {},
   "outputs": [],
   "source": [
    "#Save CSV file\n",
    "pivot_first_origin.to_csv(\"2016 Throughput Origin pivot.csv\")"
   ]
  },
  {
   "cell_type": "code",
   "execution_count": 15,
   "metadata": {},
   "outputs": [
    {
     "data": {
      "text/html": [
       "<div>\n",
       "<style scoped>\n",
       "    .dataframe tbody tr th:only-of-type {\n",
       "        vertical-align: middle;\n",
       "    }\n",
       "\n",
       "    .dataframe tbody tr th {\n",
       "        vertical-align: top;\n",
       "    }\n",
       "\n",
       "    .dataframe thead th {\n",
       "        text-align: right;\n",
       "    }\n",
       "</style>\n",
       "<table border=\"1\" class=\"dataframe\">\n",
       "  <thead>\n",
       "    <tr style=\"text-align: right;\">\n",
       "      <th></th>\n",
       "      <th>Origin</th>\n",
       "      <th>Throughput</th>\n",
       "    </tr>\n",
       "  </thead>\n",
       "  <tbody>\n",
       "    <tr>\n",
       "      <th>0</th>\n",
       "      <td>12TH</td>\n",
       "      <td>659535</td>\n",
       "    </tr>\n",
       "    <tr>\n",
       "      <th>1</th>\n",
       "      <td>16TH</td>\n",
       "      <td>678521</td>\n",
       "    </tr>\n",
       "    <tr>\n",
       "      <th>2</th>\n",
       "      <td>19TH</td>\n",
       "      <td>627232</td>\n",
       "    </tr>\n",
       "    <tr>\n",
       "      <th>3</th>\n",
       "      <td>24TH</td>\n",
       "      <td>686647</td>\n",
       "    </tr>\n",
       "    <tr>\n",
       "      <th>4</th>\n",
       "      <td>ASHB</td>\n",
       "      <td>285726</td>\n",
       "    </tr>\n",
       "  </tbody>\n",
       "</table>\n",
       "</div>"
      ],
      "text/plain": [
       "  Origin  Throughput\n",
       "0   12TH      659535\n",
       "1   16TH      678521\n",
       "2   19TH      627232\n",
       "3   24TH      686647\n",
       "4   ASHB      285726"
      ]
     },
     "execution_count": 15,
     "metadata": {},
     "output_type": "execute_result"
    }
   ],
   "source": [
    "pivot_first_origin.head()"
   ]
  },
  {
   "cell_type": "code",
   "execution_count": 16,
   "metadata": {},
   "outputs": [],
   "source": [
    "#pivot 2016 data for total passengers by destination station\n",
    "pivot_first_dest = first_df.pivot_table(index=[\"Destination\"], values=[\"Throughput\"],aggfunc=np.sum).reset_index()"
   ]
  },
  {
   "cell_type": "code",
   "execution_count": 17,
   "metadata": {},
   "outputs": [],
   "source": [
    "#Save CSV file\n",
    "pivot_first_dest.to_csv(\"2016 Throughput Destination pivot.csv\")"
   ]
  },
  {
   "cell_type": "code",
   "execution_count": 18,
   "metadata": {},
   "outputs": [],
   "source": [
    "#pivot 2017 data for total passengers by origin station\n",
    "pivot_second_origin = second_df.pivot_table(index=[\"Origin\"], values=[\"Throughput\"],aggfunc=np.sum).reset_index()"
   ]
  },
  {
   "cell_type": "code",
   "execution_count": 19,
   "metadata": {},
   "outputs": [],
   "source": [
    "#Save CSV file\n",
    "pivot_second_origin.to_csv(\"2017 Throughput Origin pivot.csv\")"
   ]
  },
  {
   "cell_type": "code",
   "execution_count": 20,
   "metadata": {},
   "outputs": [],
   "source": [
    "#pivot 2017 data for total passengers by destination station\n",
    "pivot_second_dest = second_df.pivot_table(index=[\"Destination\"], values=[\"Throughput\"],aggfunc=np.sum).reset_index()"
   ]
  },
  {
   "cell_type": "code",
   "execution_count": 21,
   "metadata": {},
   "outputs": [],
   "source": [
    "#Save CSV file\n",
    "pivot_second_dest.to_csv(\"2017 Throughput Destination pivot.csv\")"
   ]
  },
  {
   "cell_type": "code",
   "execution_count": 22,
   "metadata": {},
   "outputs": [
    {
     "data": {
      "text/plain": [
       "Index(['Origin', 'Throughput'], dtype='object')"
      ]
     },
     "execution_count": 22,
     "metadata": {},
     "output_type": "execute_result"
    }
   ],
   "source": [
    "pivot_first_origin.columns"
   ]
  },
  {
   "cell_type": "code",
   "execution_count": 23,
   "metadata": {},
   "outputs": [
    {
     "data": {
      "image/png": "[encoded data removed]",
      "text/plain": [
       "<matplotlib.figure.Figure at 0x1a2d697160>"
      ]
     },
     "metadata": {},
     "output_type": "display_data"
    }
   ],
   "source": [
    "plt.figure(figsize=(20,10))\n",
    "plt.title(\"Impact of Super Bowl 50 on BART Commute\")\n",
    "plt.ylabel(\"Number of Passengers\")\n",
    "plt.xlabel(\"BART stations\")\n",
    "#plot News channels\n",
    "tick=second_df.Origin.unique()\n",
    "plt.plot(np.arange(len(pivot_first_origin)),pivot_first_origin['Throughput'],label=\"2016 Origin\")\n",
    "plt.plot(np.arange(len(pivot_second_origin)),pivot_second_origin['Throughput'],label=\"2017 Origin\")\n",
    "plt.plot(np.arange(len(pivot_first_dest)),pivot_first_dest['Throughput'],label=\"2016 Destination\")\n",
    "plt.plot(np.arange(len(pivot_second_dest)),pivot_second_dest['Throughput'],label=\"2017 Destination\")\n",
    "plt.xticks(np.arange(len(tick)),tick,rotation='vertical')\n",
    "plt.legend(loc='best')\n",
    "sns.set()\n",
    "#Save Plot\n",
    "plt.savefig(\"Super_Bowl_compare.png\")\n",
    "plt.show()"
   ]
  },
  {
   "cell_type": "code",
   "execution_count": 24,
   "metadata": {},
   "outputs": [
    {
     "data": {
      "text/html": [
       "<div>\n",
       "<style scoped>\n",
       "    .dataframe tbody tr th:only-of-type {\n",
       "        vertical-align: middle;\n",
       "    }\n",
       "\n",
       "    .dataframe tbody tr th {\n",
       "        vertical-align: top;\n",
       "    }\n",
       "\n",
       "    .dataframe thead th {\n",
       "        text-align: right;\n",
       "    }\n",
       "</style>\n",
       "<table border=\"1\" class=\"dataframe\">\n",
       "  <thead>\n",
       "    <tr style=\"text-align: right;\">\n",
       "      <th></th>\n",
       "      <th>Day</th>\n",
       "      <th>Throughput</th>\n",
       "    </tr>\n",
       "  </thead>\n",
       "  <tbody>\n",
       "    <tr>\n",
       "      <th>0</th>\n",
       "      <td>Friday</td>\n",
       "      <td>3161629</td>\n",
       "    </tr>\n",
       "    <tr>\n",
       "      <th>1</th>\n",
       "      <td>Monday</td>\n",
       "      <td>2962879</td>\n",
       "    </tr>\n",
       "    <tr>\n",
       "      <th>2</th>\n",
       "      <td>Saturday</td>\n",
       "      <td>1619055</td>\n",
       "    </tr>\n",
       "    <tr>\n",
       "      <th>3</th>\n",
       "      <td>Sunday</td>\n",
       "      <td>1048851</td>\n",
       "    </tr>\n",
       "    <tr>\n",
       "      <th>4</th>\n",
       "      <td>Thursday</td>\n",
       "      <td>3430057</td>\n",
       "    </tr>\n",
       "    <tr>\n",
       "      <th>5</th>\n",
       "      <td>Tuesday</td>\n",
       "      <td>3760150</td>\n",
       "    </tr>\n",
       "    <tr>\n",
       "      <th>6</th>\n",
       "      <td>Wednesday</td>\n",
       "      <td>3424106</td>\n",
       "    </tr>\n",
       "  </tbody>\n",
       "</table>\n",
       "</div>"
      ],
      "text/plain": [
       "         Day  Throughput\n",
       "0     Friday     3161629\n",
       "1     Monday     2962879\n",
       "2   Saturday     1619055\n",
       "3     Sunday     1048851\n",
       "4   Thursday     3430057\n",
       "5    Tuesday     3760150\n",
       "6  Wednesday     3424106"
      ]
     },
     "execution_count": 24,
     "metadata": {},
     "output_type": "execute_result"
    }
   ],
   "source": [
    "#Group Pivot by weekdays\n",
    "pivot_weekly_2016 = first_df.pivot_table(index=[\"Day\"], values=[\"Throughput\"],aggfunc=np.sum).reset_index()\n",
    "pivot_weekly_2017 = second_df.pivot_table(index=[\"Day\"], values=[\"Throughput\"],aggfunc=np.sum).reset_index()\n",
    "pivot_weekly_2017"
   ]
  },
  {
   "cell_type": "code",
   "execution_count": 25,
   "metadata": {},
   "outputs": [
    {
     "data": {
      "text/html": [
       "<div>\n",
       "<style scoped>\n",
       "    .dataframe tbody tr th:only-of-type {\n",
       "        vertical-align: middle;\n",
       "    }\n",
       "\n",
       "    .dataframe tbody tr th {\n",
       "        vertical-align: top;\n",
       "    }\n",
       "\n",
       "    .dataframe thead th {\n",
       "        text-align: right;\n",
       "    }\n",
       "</style>\n",
       "<table border=\"1\" class=\"dataframe\">\n",
       "  <thead>\n",
       "    <tr style=\"text-align: right;\">\n",
       "      <th></th>\n",
       "      <th>Day</th>\n",
       "      <th>Throughput</th>\n",
       "    </tr>\n",
       "  </thead>\n",
       "  <tbody>\n",
       "    <tr>\n",
       "      <th>0</th>\n",
       "      <td>Friday</td>\n",
       "      <td>3601898</td>\n",
       "    </tr>\n",
       "    <tr>\n",
       "      <th>1</th>\n",
       "      <td>Monday</td>\n",
       "      <td>3401371</td>\n",
       "    </tr>\n",
       "    <tr>\n",
       "      <th>2</th>\n",
       "      <td>Saturday</td>\n",
       "      <td>2029209</td>\n",
       "    </tr>\n",
       "    <tr>\n",
       "      <th>3</th>\n",
       "      <td>Sunday</td>\n",
       "      <td>1265651</td>\n",
       "    </tr>\n",
       "    <tr>\n",
       "      <th>4</th>\n",
       "      <td>Thursday</td>\n",
       "      <td>3595722</td>\n",
       "    </tr>\n",
       "    <tr>\n",
       "      <th>5</th>\n",
       "      <td>Tuesday</td>\n",
       "      <td>3494272</td>\n",
       "    </tr>\n",
       "    <tr>\n",
       "      <th>6</th>\n",
       "      <td>Wednesday</td>\n",
       "      <td>3532409</td>\n",
       "    </tr>\n",
       "  </tbody>\n",
       "</table>\n",
       "</div>"
      ],
      "text/plain": [
       "         Day  Throughput\n",
       "0     Friday     3601898\n",
       "1     Monday     3401371\n",
       "2   Saturday     2029209\n",
       "3     Sunday     1265651\n",
       "4   Thursday     3595722\n",
       "5    Tuesday     3494272\n",
       "6  Wednesday     3532409"
      ]
     },
     "execution_count": 25,
     "metadata": {},
     "output_type": "execute_result"
    }
   ],
   "source": [
    "pivot_weekly_2016"
   ]
  },
  {
   "cell_type": "code",
   "execution_count": 26,
   "metadata": {},
   "outputs": [],
   "source": [
    "#Re-indexing based on weekdays\n",
    "weekdays=['Monday','Tuesday','Wednesday','Thursday','Friday','Saturday', 'Sunday']\n",
    "mapping = {day: i for i, day in enumerate(weekdays)}\n",
    "key = pivot_weekly_2016['Day'].map(mapping)\n",
    "\n",
    "pivot_weekly_2016 = pivot_weekly_2016.iloc[key.argsort()].set_index('Day')\n",
    "pivot_weekly_2017 = pivot_weekly_2017.iloc[key.argsort()].set_index('Day')"
   ]
  },
  {
   "cell_type": "code",
   "execution_count": 27,
   "metadata": {},
   "outputs": [
    {
     "data": {
      "text/html": [
       "<div>\n",
       "<style scoped>\n",
       "    .dataframe tbody tr th:only-of-type {\n",
       "        vertical-align: middle;\n",
       "    }\n",
       "\n",
       "    .dataframe tbody tr th {\n",
       "        vertical-align: top;\n",
       "    }\n",
       "\n",
       "    .dataframe thead th {\n",
       "        text-align: right;\n",
       "    }\n",
       "</style>\n",
       "<table border=\"1\" class=\"dataframe\">\n",
       "  <thead>\n",
       "    <tr style=\"text-align: right;\">\n",
       "      <th></th>\n",
       "      <th>Throughput</th>\n",
       "    </tr>\n",
       "    <tr>\n",
       "      <th>Day</th>\n",
       "      <th></th>\n",
       "    </tr>\n",
       "  </thead>\n",
       "  <tbody>\n",
       "    <tr>\n",
       "      <th>Monday</th>\n",
       "      <td>3401371</td>\n",
       "    </tr>\n",
       "    <tr>\n",
       "      <th>Tuesday</th>\n",
       "      <td>3494272</td>\n",
       "    </tr>\n",
       "    <tr>\n",
       "      <th>Wednesday</th>\n",
       "      <td>3532409</td>\n",
       "    </tr>\n",
       "    <tr>\n",
       "      <th>Thursday</th>\n",
       "      <td>3595722</td>\n",
       "    </tr>\n",
       "    <tr>\n",
       "      <th>Friday</th>\n",
       "      <td>3601898</td>\n",
       "    </tr>\n",
       "    <tr>\n",
       "      <th>Saturday</th>\n",
       "      <td>2029209</td>\n",
       "    </tr>\n",
       "    <tr>\n",
       "      <th>Sunday</th>\n",
       "      <td>1265651</td>\n",
       "    </tr>\n",
       "  </tbody>\n",
       "</table>\n",
       "</div>"
      ],
      "text/plain": [
       "           Throughput\n",
       "Day                  \n",
       "Monday        3401371\n",
       "Tuesday       3494272\n",
       "Wednesday     3532409\n",
       "Thursday      3595722\n",
       "Friday        3601898\n",
       "Saturday      2029209\n",
       "Sunday        1265651"
      ]
     },
     "execution_count": 27,
     "metadata": {},
     "output_type": "execute_result"
    }
   ],
   "source": [
    "pivot_weekly_2016"
   ]
  },
  {
   "cell_type": "code",
   "execution_count": 28,
   "metadata": {},
   "outputs": [
    {
     "data": {
      "text/html": [
       "<div>\n",
       "<style scoped>\n",
       "    .dataframe tbody tr th:only-of-type {\n",
       "        vertical-align: middle;\n",
       "    }\n",
       "\n",
       "    .dataframe tbody tr th {\n",
       "        vertical-align: top;\n",
       "    }\n",
       "\n",
       "    .dataframe thead th {\n",
       "        text-align: right;\n",
       "    }\n",
       "</style>\n",
       "<table border=\"1\" class=\"dataframe\">\n",
       "  <thead>\n",
       "    <tr style=\"text-align: right;\">\n",
       "      <th></th>\n",
       "      <th>Throughput</th>\n",
       "    </tr>\n",
       "    <tr>\n",
       "      <th>Day</th>\n",
       "      <th></th>\n",
       "    </tr>\n",
       "  </thead>\n",
       "  <tbody>\n",
       "    <tr>\n",
       "      <th>Monday</th>\n",
       "      <td>2962879</td>\n",
       "    </tr>\n",
       "    <tr>\n",
       "      <th>Tuesday</th>\n",
       "      <td>3760150</td>\n",
       "    </tr>\n",
       "    <tr>\n",
       "      <th>Wednesday</th>\n",
       "      <td>3424106</td>\n",
       "    </tr>\n",
       "    <tr>\n",
       "      <th>Thursday</th>\n",
       "      <td>3430057</td>\n",
       "    </tr>\n",
       "    <tr>\n",
       "      <th>Friday</th>\n",
       "      <td>3161629</td>\n",
       "    </tr>\n",
       "    <tr>\n",
       "      <th>Saturday</th>\n",
       "      <td>1619055</td>\n",
       "    </tr>\n",
       "    <tr>\n",
       "      <th>Sunday</th>\n",
       "      <td>1048851</td>\n",
       "    </tr>\n",
       "  </tbody>\n",
       "</table>\n",
       "</div>"
      ],
      "text/plain": [
       "           Throughput\n",
       "Day                  \n",
       "Monday        2962879\n",
       "Tuesday       3760150\n",
       "Wednesday     3424106\n",
       "Thursday      3430057\n",
       "Friday        3161629\n",
       "Saturday      1619055\n",
       "Sunday        1048851"
      ]
     },
     "execution_count": 28,
     "metadata": {},
     "output_type": "execute_result"
    }
   ],
   "source": [
    "pivot_weekly_2017"
   ]
  },
  {
   "cell_type": "code",
   "execution_count": 49,
   "metadata": {},
   "outputs": [
    {
     "data": {
      "image/png": "[encoded data removed]",
      "text/plain": [
       "<matplotlib.figure.Figure at 0x1a223efa90>"
      ]
     },
     "metadata": {},
     "output_type": "display_data"
    }
   ],
   "source": [
    "#plot commuter details\n",
    "fig, ax = plt.subplots()\n",
    "index = np.arange(0,7*2,2)\n",
    "bar_width = .75\n",
    "rects1 = plt.bar(index-bar_width,pivot_weekly_2016['Throughput'],label=\"2016\",width=bar_width)\n",
    "rects2 = plt.bar(index,pivot_weekly_2017['Throughput'],label=\"2017\",width=bar_width)\n",
    "\n",
    "plt.xticks(index,weekdays,rotation=45)\n",
    "plt.title(\"BART Weekly Commute for Jan and Feb\")\n",
    "plt.ylabel(\"Number of Passengers\")\n",
    "plt.xlabel(\"Day of the Week\")\n",
    "plt.legend(loc='best')\n",
    "#Save Plot\n",
    "plt.savefig(\"Weekly Commute.png\")\n",
    "plt.show()"
   ]
  },
  {
   "cell_type": "code",
   "execution_count": null,
   "metadata": {},
   "outputs": [],
   "source": []
  }
 ],
 "metadata": {
  "kernelspec": {
   "display_name": "Python [conda env:pythondata2]",
   "language": "python",
   "name": "conda-env-pythondata2-py"
  },
  "language_info": {
   "codemirror_mode": {
    "name": "ipython",
    "version": 3
   },
   "file_extension": ".py",
   "mimetype": "text/x-python",
   "name": "python",
   "nbconvert_exporter": "python",
   "pygments_lexer": "ipython3",
   "version": "3.6.4"
  }
 },
 "nbformat": 4,
 "nbformat_minor": 2
}
